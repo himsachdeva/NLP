{
 "cells": [
  {
   "cell_type": "markdown",
   "metadata": {},
   "source": [
    "## POS tagging using modified Viterbi"
   ]
  },
  {
   "cell_type": "markdown",
   "metadata": {},
   "source": [
    "Apply techniques to improve Vanilla Viterbi Algorithm performance by handling unknown words in the corpus"
   ]
  },
  {
   "cell_type": "markdown",
   "metadata": {},
   "source": [
    "Approach:"
   ]
  },
  {
   "cell_type": "markdown",
   "metadata": {},
   "source": [
    "1. Develop plain vanilla Viterbi Algorithm.\n",
    "2. Viterbi Modification-Technique I\n",
    "    - Transition probability is considered in case of unknown words.\n",
    "3. Viterbi Modification-Technique II\n",
    "    - Use Rule based tagger in case of unknown words.\n",
    "3. The modified Viterbi algorithms tested on sample validation data and compared.\n",
    "4. The final algorithms are tested on full test data."
   ]
  },
  {
   "cell_type": "markdown",
   "metadata": {},
   "source": [
    "### Data Preparation"
   ]
  },
  {
   "cell_type": "code",
   "execution_count": 1,
   "metadata": {},
   "outputs": [],
   "source": [
    "#Importing libraries\n",
    "import nltk\n",
    "import numpy as np\n",
    "import pandas as pd\n",
    "import time\n",
    "import random\n",
    "from sklearn.model_selection import train_test_split\n",
    "from nltk.tokenize import word_tokenize\n",
    "from collections import Counter\n",
    "import matplotlib.pyplot as plt\n",
    "import seaborn as sns"
   ]
  },
  {
   "cell_type": "code",
   "execution_count": 2,
   "metadata": {},
   "outputs": [],
   "source": [
    "#nltk.download('universal_tagset')"
   ]
  },
  {
   "cell_type": "code",
   "execution_count": 3,
   "metadata": {},
   "outputs": [],
   "source": [
    "from nltk.corpus import treebank"
   ]
  },
  {
   "cell_type": "code",
   "execution_count": 4,
   "metadata": {},
   "outputs": [],
   "source": [
    "# reading the Treebank tagged sentences\n",
    "nltk_data = list(nltk.corpus.treebank.tagged_sents(tagset='universal'))"
   ]
  },
  {
   "cell_type": "code",
   "execution_count": 5,
   "metadata": {},
   "outputs": [
    {
     "name": "stdout",
     "output_type": "stream",
     "text": [
      "[[('Pierre', 'NOUN'), ('Vinken', 'NOUN'), (',', '.'), ('61', 'NUM'), ('years', 'NOUN'), ('old', 'ADJ'), (',', '.'), ('will', 'VERB'), ('join', 'VERB'), ('the', 'DET'), ('board', 'NOUN'), ('as', 'ADP'), ('a', 'DET'), ('nonexecutive', 'ADJ'), ('director', 'NOUN'), ('Nov.', 'NOUN'), ('29', 'NUM'), ('.', '.')], [('Mr.', 'NOUN'), ('Vinken', 'NOUN'), ('is', 'VERB'), ('chairman', 'NOUN'), ('of', 'ADP'), ('Elsevier', 'NOUN'), ('N.V.', 'NOUN'), (',', '.'), ('the', 'DET'), ('Dutch', 'NOUN'), ('publishing', 'VERB'), ('group', 'NOUN'), ('.', '.')], [('Rudolph', 'NOUN'), ('Agnew', 'NOUN'), (',', '.'), ('55', 'NUM'), ('years', 'NOUN'), ('old', 'ADJ'), ('and', 'CONJ'), ('former', 'ADJ'), ('chairman', 'NOUN'), ('of', 'ADP'), ('Consolidated', 'NOUN'), ('Gold', 'NOUN'), ('Fields', 'NOUN'), ('PLC', 'NOUN'), (',', '.'), ('was', 'VERB'), ('named', 'VERB'), ('*-1', 'X'), ('a', 'DET'), ('nonexecutive', 'ADJ'), ('director', 'NOUN'), ('of', 'ADP'), ('this', 'DET'), ('British', 'ADJ'), ('industrial', 'ADJ'), ('conglomerate', 'NOUN'), ('.', '.')], [('A', 'DET'), ('form', 'NOUN'), ('of', 'ADP'), ('asbestos', 'NOUN'), ('once', 'ADV'), ('used', 'VERB'), ('*', 'X'), ('*', 'X'), ('to', 'PRT'), ('make', 'VERB'), ('Kent', 'NOUN'), ('cigarette', 'NOUN'), ('filters', 'NOUN'), ('has', 'VERB'), ('caused', 'VERB'), ('a', 'DET'), ('high', 'ADJ'), ('percentage', 'NOUN'), ('of', 'ADP'), ('cancer', 'NOUN'), ('deaths', 'NOUN'), ('among', 'ADP'), ('a', 'DET'), ('group', 'NOUN'), ('of', 'ADP'), ('workers', 'NOUN'), ('exposed', 'VERB'), ('*', 'X'), ('to', 'PRT'), ('it', 'PRON'), ('more', 'ADV'), ('than', 'ADP'), ('30', 'NUM'), ('years', 'NOUN'), ('ago', 'ADP'), (',', '.'), ('researchers', 'NOUN'), ('reported', 'VERB'), ('0', 'X'), ('*T*-1', 'X'), ('.', '.')], [('The', 'DET'), ('asbestos', 'NOUN'), ('fiber', 'NOUN'), (',', '.'), ('crocidolite', 'NOUN'), (',', '.'), ('is', 'VERB'), ('unusually', 'ADV'), ('resilient', 'ADJ'), ('once', 'ADP'), ('it', 'PRON'), ('enters', 'VERB'), ('the', 'DET'), ('lungs', 'NOUN'), (',', '.'), ('with', 'ADP'), ('even', 'ADV'), ('brief', 'ADJ'), ('exposures', 'NOUN'), ('to', 'PRT'), ('it', 'PRON'), ('causing', 'VERB'), ('symptoms', 'NOUN'), ('that', 'DET'), ('*T*-1', 'X'), ('show', 'VERB'), ('up', 'PRT'), ('decades', 'NOUN'), ('later', 'ADJ'), (',', '.'), ('researchers', 'NOUN'), ('said', 'VERB'), ('0', 'X'), ('*T*-2', 'X'), ('.', '.')]]\n"
     ]
    }
   ],
   "source": [
    "# let's check some of the tagged data\n",
    "print(nltk_data[:5])"
   ]
  },
  {
   "cell_type": "code",
   "execution_count": 6,
   "metadata": {},
   "outputs": [
    {
     "name": "stdout",
     "output_type": "stream",
     "text": [
      "3718\n",
      "196\n"
     ]
    }
   ],
   "source": [
    "# Splitting into train and test(validation)\n",
    "random.seed(1234)\n",
    "train_set, test_set = train_test_split(nltk_data,test_size=0.05)\n",
    "\n",
    "print(len(train_set))\n",
    "print(len(test_set))"
   ]
  },
  {
   "cell_type": "code",
   "execution_count": 7,
   "metadata": {},
   "outputs": [
    {
     "data": {
      "text/plain": [
       "95622"
      ]
     },
     "execution_count": 7,
     "metadata": {},
     "output_type": "execute_result"
    }
   ],
   "source": [
    "\n",
    "# Getting list of tagged train words\n",
    "train_tagged_words = [tup for sent in train_set for tup in sent]\n",
    "len(train_tagged_words)"
   ]
  },
  {
   "cell_type": "code",
   "execution_count": 8,
   "metadata": {},
   "outputs": [
    {
     "data": {
      "text/plain": [
       "[('Vicar', 'NOUN'),\n",
       " ('Marshall', 'NOUN'),\n",
       " ('admits', 'VERB'),\n",
       " ('to', 'PRT'),\n",
       " ('mixed', 'VERB')]"
      ]
     },
     "execution_count": 8,
     "metadata": {},
     "output_type": "execute_result"
    }
   ],
   "source": [
    "train_tagged_words[:5]"
   ]
  },
  {
   "cell_type": "code",
   "execution_count": 9,
   "metadata": {},
   "outputs": [
    {
     "name": "stdout",
     "output_type": "stream",
     "text": [
      "95622\n"
     ]
    },
    {
     "data": {
      "text/plain": [
       "['Vicar', 'Marshall', 'admits', 'to', 'mixed']"
      ]
     },
     "execution_count": 9,
     "metadata": {},
     "output_type": "execute_result"
    }
   ],
   "source": [
    "# Get the tokens/words from tagged word, POS pair \n",
    "tokens = [pair[0] for pair in train_tagged_words]\n",
    "print(len(tokens))\n",
    "tokens[:5]"
   ]
  },
  {
   "cell_type": "code",
   "execution_count": 10,
   "metadata": {},
   "outputs": [
    {
     "name": "stdout",
     "output_type": "stream",
     "text": [
      "12110\n"
     ]
    }
   ],
   "source": [
    "# Create the vocabulary of tokens\n",
    "V = set(tokens)\n",
    "print(len(V))\n",
    "N_Words=int(len(V))"
   ]
  },
  {
   "cell_type": "code",
   "execution_count": 11,
   "metadata": {},
   "outputs": [
    {
     "name": "stdout",
     "output_type": "stream",
     "text": [
      "12\n",
      "{'PRT', 'NUM', '.', 'ADJ', 'PRON', 'NOUN', 'ADP', 'VERB', 'X', 'DET', 'ADV', 'CONJ'}\n"
     ]
    }
   ],
   "source": [
    "# Get all the unique tags\n",
    "T = set([pair[1] for pair in train_tagged_words])\n",
    "print(len(T))\n",
    "print(T)"
   ]
  },
  {
   "cell_type": "markdown",
   "metadata": {},
   "source": [
    "There are only 12 tags in the corpus for simplicity"
   ]
  },
  {
   "cell_type": "markdown",
   "metadata": {},
   "source": [
    "##### Computing Probabilities"
   ]
  },
  {
   "cell_type": "code",
   "execution_count": null,
   "metadata": {},
   "outputs": [],
   "source": []
  },
  {
   "cell_type": "markdown",
   "metadata": {},
   "source": [
    "We'll use the HMM algorithm to tag the words. For every word w, assign the tag t that maximises the likelihood P(t/w).\n",
    "\n",
    "P(t/w) = P(w/t). P(t) / P(w), after ignoring P(w), we have to compute P(w/t) and P(t).\n",
    "\n",
    "Now:\n",
    "\n",
    "P(w/t): is the emission probability of a given word for a given tag. This can be computed based on the fraction of given word for given tag to the total count of that tag, ie: P(w/t) = count(w, t) / count(t).\n",
    "\n",
    "P(t): is the probability of tag (also transition probability), and in a tagging task, we assume that a tag will depend only on the previous tag (Markov order 1 assumption). In other words, the probability of say a tag being NN will depend only on the previous tag t(n-1). So for e.g. if t(n-1) is a JJ, then t(n) is likely to be an NN since adjectives often precede a noun (blue coat, tall building etc.)."
   ]
  },
  {
   "cell_type": "code",
   "execution_count": 12,
   "metadata": {},
   "outputs": [],
   "source": [
    "\n",
    "# computing P(w/t) and creating a T x V matrix\n",
    "t = len(T)\n",
    "v = len(V)\n",
    "w_given_t = np.zeros((t, v))"
   ]
  },
  {
   "cell_type": "code",
   "execution_count": 13,
   "metadata": {},
   "outputs": [
    {
     "name": "stdout",
     "output_type": "stream",
     "text": [
      "[('NOUN', 27438), ('VERB', 12857), ('.', 11129), ('ADP', 9374), ('DET', 8251)]\n"
     ]
    }
   ],
   "source": [
    "# most frequent tag in the corpus\n",
    "tags = [pair[1] for pair in train_tagged_words]\n",
    "tag_counts = Counter(tags)\n",
    "\n",
    "# the most common tags can using the most_common() method of Counter\n",
    "most_common_tags = tag_counts.most_common(5)\n",
    "print(most_common_tags)"
   ]
  },
  {
   "cell_type": "code",
   "execution_count": 14,
   "metadata": {},
   "outputs": [
    {
     "data": {
      "text/plain": [
       "304"
      ]
     },
     "execution_count": 14,
     "metadata": {},
     "output_type": "execute_result"
    }
   ],
   "source": [
    "# Getting the list of tagged test words\n",
    "\n",
    "# Running Viterbi algorithm on the entire test dataset would take a lot of time. \n",
    "# We'll test it on a few sample sentences of validation dataset\n",
    "\n",
    "random.seed(1234)\n",
    "\n",
    "# select 10 random sentences\n",
    "random_sents = [random.randint(1,len(test_set)) for x in range(10)]\n",
    "\n",
    "# list of sents\n",
    "test_run = [test_set[i] for i in random_sents]\n",
    "\n",
    "# list of tagged words\n",
    "test_run_base = [tup for sent in test_run for tup in sent]\n",
    "\n",
    "# list of untagged words\n",
    "test_tagged_words = [tup[0] for sent in test_run for tup in sent]\n",
    "len(test_tagged_words)"
   ]
  },
  {
   "cell_type": "markdown",
   "metadata": {},
   "source": [
    "### Emission Probabilities"
   ]
  },
  {
   "cell_type": "code",
   "execution_count": 15,
   "metadata": {},
   "outputs": [],
   "source": [
    "# compute word given tag: Emission Probability\n",
    "def word_given_tag(word, tag, train_bag = train_tagged_words):\n",
    "    tag_list = [pair for pair in train_bag if pair[1]==tag]\n",
    "    count_tag = len(tag_list)\n",
    "    w_given_tag_list = [pair[0] for pair in tag_list if pair[0]==word]\n",
    "    count_w_given_tag = len(w_given_tag_list)\n",
    "    \n",
    "    return (count_w_given_tag, count_tag)"
   ]
  },
  {
   "cell_type": "code",
   "execution_count": 16,
   "metadata": {},
   "outputs": [
    {
     "name": "stdout",
     "output_type": "stream",
     "text": [
      "\n",
      " service\n",
      "(0, 2151)\n",
      "(24, 27438)\n",
      "(0, 6089)\n",
      "(0, 3006)\n",
      "(0, 12857) \n",
      "\n",
      "\n",
      " post\n",
      "(0, 2151)\n",
      "(4, 27438)\n",
      "(0, 6089)\n",
      "(0, 3006)\n",
      "(2, 12857) \n",
      "\n"
     ]
    }
   ],
   "source": [
    "# testing the Emission Probability function\n",
    "print(\"\\n\", \"service\")\n",
    "print(word_given_tag('service', 'CONJ'))\n",
    "print(word_given_tag('service', 'NOUN'))\n",
    "print(word_given_tag('service', 'ADJ'))\n",
    "print(word_given_tag('service', 'ADV'))\n",
    "print(word_given_tag('service', 'VERB'), \"\\n\")\n",
    "print(\"\\n\", \"post\")\n",
    "print(word_given_tag('post', 'CONJ'))\n",
    "print(word_given_tag('post', 'NOUN'))\n",
    "print(word_given_tag('post', 'ADJ'))\n",
    "print(word_given_tag('post', 'ADV'))\n",
    "print(word_given_tag('post', 'VERB'), \"\\n\")\n"
   ]
  },
  {
   "cell_type": "markdown",
   "metadata": {},
   "source": [
    "### Transition Probabilities"
   ]
  },
  {
   "cell_type": "code",
   "execution_count": 17,
   "metadata": {},
   "outputs": [],
   "source": [
    "# compute tag t2 given tag t1\n",
    "def t2_given_t1(t2, t1, train_bag = train_tagged_words):\n",
    "    tags = [pair[1] for pair in train_bag]\n",
    "    count_t1 = len([t for t in tags if t==t1])\n",
    "    count_t2_t1 = 0\n",
    "    for i in range(len(tags)-1):\n",
    "        if tags[i] == t1 and tags[i+1] == t2:\n",
    "            count_t2_t1 += 1\n",
    "    return(count_t2_t1, count_t1)"
   ]
  },
  {
   "cell_type": "code",
   "execution_count": 18,
   "metadata": {},
   "outputs": [
    {
     "name": "stdout",
     "output_type": "stream",
     "text": [
      "(364, 27438)\n",
      "(4023, 27438)\n",
      "(71, 12857)\n",
      "(244, 2599)\n"
     ]
    }
   ],
   "source": [
    "#test Transition probability\n",
    "print(t2_given_t1(t2='DET', t1='NOUN'))\n",
    "print(t2_given_t1('VERB', 'NOUN'))\n",
    "print(t2_given_t1('CONJ', 'VERB'))\n",
    "print(t2_given_t1('X', 'PRON'))"
   ]
  },
  {
   "cell_type": "code",
   "execution_count": 19,
   "metadata": {},
   "outputs": [
    {
     "name": "stdout",
     "output_type": "stream",
     "text": [
      "(1918, 11129)\n",
      "(2494, 11129)\n",
      "(990, 11129)\n",
      "(726, 11129)\n"
     ]
    }
   ],
   "source": [
    "# Note P(tag|start) is same as P(tag|'.')\n",
    "print(t2_given_t1('DET', '.'))\n",
    "print(t2_given_t1('NOUN', '.'))\n",
    "print(t2_given_t1('VERB', '.'))\n",
    "print(t2_given_t1('PRON', '.'))"
   ]
  },
  {
   "cell_type": "markdown",
   "metadata": {},
   "source": [
    "##### Matrix of Transition Probabilities"
   ]
  },
  {
   "cell_type": "code",
   "execution_count": 20,
   "metadata": {},
   "outputs": [
    {
     "name": "stdout",
     "output_type": "stream",
     "text": [
      "{'PRT', 'NUM', '.', 'ADJ', 'PRON', 'NOUN', 'ADP', 'VERB', 'X', 'DET', 'ADV', 'CONJ'}\n"
     ]
    }
   ],
   "source": [
    "print(T)"
   ]
  },
  {
   "cell_type": "code",
   "execution_count": 21,
   "metadata": {},
   "outputs": [],
   "source": [
    "#from __future__ import division"
   ]
  },
  {
   "cell_type": "code",
   "execution_count": 22,
   "metadata": {},
   "outputs": [],
   "source": [
    "# t1 x t2 matrix of transition probablities of tags\n",
    "\n",
    "tags_matrix = np.zeros((len(T), len(T)), dtype = 'float32')\n",
    "for i, t1 in enumerate(list(T)):\n",
    "    for j, t2 in enumerate(list(T)):\n",
    "        #tags_matrix[i, j] = t2_given_t1(t2, t1)[0]/t2_given_t1(t2, t1)[1]\n",
    "        #print(t2_given_t1(t2, t1)[0] , t2_given_t1(t2, t1)[1])\n",
    "        count_t2_t1, count_t1 = t2_given_t1(t2, t1)\n",
    "        tags_matrix[i,j] = count_t2_t1 / count_t1"
   ]
  },
  {
   "cell_type": "code",
   "execution_count": 23,
   "metadata": {},
   "outputs": [
    {
     "data": {
      "text/plain": [
       "array([[1.96721312e-03, 5.86885251e-02, 4.13114764e-02, 8.39344263e-02,\n",
       "        1.86885241e-02, 2.48196721e-01, 2.06557382e-02, 3.99672121e-01,\n",
       "        1.34426225e-02, 1.01967216e-01, 9.83606558e-03, 1.63934426e-03],\n",
       "       [2.77367961e-02, 1.85305402e-01, 1.18619062e-01, 3.33431698e-02,\n",
       "        1.47536141e-03, 3.52611393e-01, 3.51136029e-02, 1.77043378e-02,\n",
       "        2.08616108e-01, 2.95072282e-03, 2.95072282e-03, 1.35733252e-02],\n",
       "       [2.42609391e-03, 8.14089328e-02, 9.19220075e-02, 4.37595472e-02,\n",
       "        6.52349740e-02, 2.24099204e-01, 9.15625840e-02, 8.89567807e-02,\n",
       "        2.79450081e-02, 1.72342524e-01, 5.28349355e-02, 5.74175566e-02],\n",
       "       [1.10034486e-02, 2.10215151e-02, 6.50353059e-02, 6.76629990e-02,\n",
       "        6.56922348e-04, 6.97979987e-01, 7.70241395e-02, 1.19888326e-02,\n",
       "        2.05288231e-02, 4.76268679e-03, 4.92691761e-03, 1.74084418e-02],\n",
       "       [1.30819548e-02, 6.15621405e-03, 4.15544435e-02, 7.34898001e-02,\n",
       "        7.69526744e-03, 2.10850328e-01, 2.30858028e-02, 4.81338978e-01,\n",
       "        9.38822627e-02, 9.61908419e-03, 3.38591784e-02, 5.38668735e-03],\n",
       "       [4.33705077e-02, 9.69458371e-03, 2.40287200e-01, 1.21728992e-02,\n",
       "        4.62861732e-03, 2.64268547e-01, 1.77126616e-01, 1.46621481e-01,\n",
       "        2.90108602e-02, 1.32662728e-02, 1.69108529e-02, 4.26415913e-02],\n",
       "       [1.28013652e-03, 6.19799457e-02, 3.98975909e-02, 1.07531473e-01,\n",
       "        6.85939863e-02, 3.22594404e-01, 1.72818433e-02, 8.21420923e-03,\n",
       "        3.47770415e-02, 3.23127806e-01, 1.37614682e-02, 9.60102421e-04],\n",
       "       [3.16559076e-02, 2.31780354e-02, 3.50003876e-02, 6.48673847e-02,\n",
       "        3.60115096e-02, 1.11067899e-01, 9.13121253e-02, 1.68624103e-01,\n",
       "        2.17935756e-01, 1.33623704e-01, 8.12009051e-02, 5.52228373e-03],\n",
       "       [1.84131026e-01, 2.70313234e-03, 1.62346959e-01, 1.73318498e-02,\n",
       "        5.54937199e-02, 6.23310544e-02, 1.44220069e-01, 2.06233099e-01,\n",
       "        7.47336596e-02, 5.40626496e-02, 2.62362864e-02, 1.01764984e-02],\n",
       "       [2.42394861e-04, 2.24215239e-02, 1.80584174e-02, 2.05429643e-01,\n",
       "        3.75712034e-03, 6.36165321e-01, 9.08980705e-03, 4.04799432e-02,\n",
       "        4.58126292e-02, 5.45388460e-03, 1.26045328e-02, 4.84789722e-04],\n",
       "       [1.39720561e-02, 3.16034593e-02, 1.37391880e-01, 1.30405858e-01,\n",
       "        1.49700595e-02, 3.16034593e-02, 1.18762478e-01, 3.42315376e-01,\n",
       "        2.36194283e-02, 6.95276111e-02, 7.85096437e-02, 7.31869601e-03],\n",
       "       [5.11390064e-03, 4.18410040e-02, 3.44026051e-02, 1.19944215e-01,\n",
       "        5.99721074e-02, 3.50534648e-01, 5.06741069e-02, 1.56206414e-01,\n",
       "        8.36820062e-03, 1.17619708e-01, 5.48582040e-02, 4.64900048e-04]],\n",
       "      dtype=float32)"
      ]
     },
     "execution_count": 23,
     "metadata": {},
     "output_type": "execute_result"
    }
   ],
   "source": [
    "tags_matrix"
   ]
  },
  {
   "cell_type": "code",
   "execution_count": 24,
   "metadata": {},
   "outputs": [
    {
     "data": {
      "text/html": [
       "<div>\n",
       "<style scoped>\n",
       "    .dataframe tbody tr th:only-of-type {\n",
       "        vertical-align: middle;\n",
       "    }\n",
       "\n",
       "    .dataframe tbody tr th {\n",
       "        vertical-align: top;\n",
       "    }\n",
       "\n",
       "    .dataframe thead th {\n",
       "        text-align: right;\n",
       "    }\n",
       "</style>\n",
       "<table border=\"1\" class=\"dataframe\">\n",
       "  <thead>\n",
       "    <tr style=\"text-align: right;\">\n",
       "      <th></th>\n",
       "      <th>PRT</th>\n",
       "      <th>NUM</th>\n",
       "      <th>.</th>\n",
       "      <th>ADJ</th>\n",
       "      <th>PRON</th>\n",
       "      <th>NOUN</th>\n",
       "      <th>ADP</th>\n",
       "      <th>VERB</th>\n",
       "      <th>X</th>\n",
       "      <th>DET</th>\n",
       "      <th>ADV</th>\n",
       "      <th>CONJ</th>\n",
       "    </tr>\n",
       "  </thead>\n",
       "  <tbody>\n",
       "    <tr>\n",
       "      <th>PRT</th>\n",
       "      <td>0.001967</td>\n",
       "      <td>0.058689</td>\n",
       "      <td>0.041311</td>\n",
       "      <td>0.083934</td>\n",
       "      <td>0.018689</td>\n",
       "      <td>0.248197</td>\n",
       "      <td>0.020656</td>\n",
       "      <td>0.399672</td>\n",
       "      <td>0.013443</td>\n",
       "      <td>0.101967</td>\n",
       "      <td>0.009836</td>\n",
       "      <td>0.001639</td>\n",
       "    </tr>\n",
       "    <tr>\n",
       "      <th>NUM</th>\n",
       "      <td>0.027737</td>\n",
       "      <td>0.185305</td>\n",
       "      <td>0.118619</td>\n",
       "      <td>0.033343</td>\n",
       "      <td>0.001475</td>\n",
       "      <td>0.352611</td>\n",
       "      <td>0.035114</td>\n",
       "      <td>0.017704</td>\n",
       "      <td>0.208616</td>\n",
       "      <td>0.002951</td>\n",
       "      <td>0.002951</td>\n",
       "      <td>0.013573</td>\n",
       "    </tr>\n",
       "    <tr>\n",
       "      <th>.</th>\n",
       "      <td>0.002426</td>\n",
       "      <td>0.081409</td>\n",
       "      <td>0.091922</td>\n",
       "      <td>0.043760</td>\n",
       "      <td>0.065235</td>\n",
       "      <td>0.224099</td>\n",
       "      <td>0.091563</td>\n",
       "      <td>0.088957</td>\n",
       "      <td>0.027945</td>\n",
       "      <td>0.172343</td>\n",
       "      <td>0.052835</td>\n",
       "      <td>0.057418</td>\n",
       "    </tr>\n",
       "    <tr>\n",
       "      <th>ADJ</th>\n",
       "      <td>0.011003</td>\n",
       "      <td>0.021022</td>\n",
       "      <td>0.065035</td>\n",
       "      <td>0.067663</td>\n",
       "      <td>0.000657</td>\n",
       "      <td>0.697980</td>\n",
       "      <td>0.077024</td>\n",
       "      <td>0.011989</td>\n",
       "      <td>0.020529</td>\n",
       "      <td>0.004763</td>\n",
       "      <td>0.004927</td>\n",
       "      <td>0.017408</td>\n",
       "    </tr>\n",
       "    <tr>\n",
       "      <th>PRON</th>\n",
       "      <td>0.013082</td>\n",
       "      <td>0.006156</td>\n",
       "      <td>0.041554</td>\n",
       "      <td>0.073490</td>\n",
       "      <td>0.007695</td>\n",
       "      <td>0.210850</td>\n",
       "      <td>0.023086</td>\n",
       "      <td>0.481339</td>\n",
       "      <td>0.093882</td>\n",
       "      <td>0.009619</td>\n",
       "      <td>0.033859</td>\n",
       "      <td>0.005387</td>\n",
       "    </tr>\n",
       "    <tr>\n",
       "      <th>NOUN</th>\n",
       "      <td>0.043371</td>\n",
       "      <td>0.009695</td>\n",
       "      <td>0.240287</td>\n",
       "      <td>0.012173</td>\n",
       "      <td>0.004629</td>\n",
       "      <td>0.264269</td>\n",
       "      <td>0.177127</td>\n",
       "      <td>0.146621</td>\n",
       "      <td>0.029011</td>\n",
       "      <td>0.013266</td>\n",
       "      <td>0.016911</td>\n",
       "      <td>0.042642</td>\n",
       "    </tr>\n",
       "    <tr>\n",
       "      <th>ADP</th>\n",
       "      <td>0.001280</td>\n",
       "      <td>0.061980</td>\n",
       "      <td>0.039898</td>\n",
       "      <td>0.107531</td>\n",
       "      <td>0.068594</td>\n",
       "      <td>0.322594</td>\n",
       "      <td>0.017282</td>\n",
       "      <td>0.008214</td>\n",
       "      <td>0.034777</td>\n",
       "      <td>0.323128</td>\n",
       "      <td>0.013761</td>\n",
       "      <td>0.000960</td>\n",
       "    </tr>\n",
       "    <tr>\n",
       "      <th>VERB</th>\n",
       "      <td>0.031656</td>\n",
       "      <td>0.023178</td>\n",
       "      <td>0.035000</td>\n",
       "      <td>0.064867</td>\n",
       "      <td>0.036012</td>\n",
       "      <td>0.111068</td>\n",
       "      <td>0.091312</td>\n",
       "      <td>0.168624</td>\n",
       "      <td>0.217936</td>\n",
       "      <td>0.133624</td>\n",
       "      <td>0.081201</td>\n",
       "      <td>0.005522</td>\n",
       "    </tr>\n",
       "    <tr>\n",
       "      <th>X</th>\n",
       "      <td>0.184131</td>\n",
       "      <td>0.002703</td>\n",
       "      <td>0.162347</td>\n",
       "      <td>0.017332</td>\n",
       "      <td>0.055494</td>\n",
       "      <td>0.062331</td>\n",
       "      <td>0.144220</td>\n",
       "      <td>0.206233</td>\n",
       "      <td>0.074734</td>\n",
       "      <td>0.054063</td>\n",
       "      <td>0.026236</td>\n",
       "      <td>0.010176</td>\n",
       "    </tr>\n",
       "    <tr>\n",
       "      <th>DET</th>\n",
       "      <td>0.000242</td>\n",
       "      <td>0.022422</td>\n",
       "      <td>0.018058</td>\n",
       "      <td>0.205430</td>\n",
       "      <td>0.003757</td>\n",
       "      <td>0.636165</td>\n",
       "      <td>0.009090</td>\n",
       "      <td>0.040480</td>\n",
       "      <td>0.045813</td>\n",
       "      <td>0.005454</td>\n",
       "      <td>0.012605</td>\n",
       "      <td>0.000485</td>\n",
       "    </tr>\n",
       "    <tr>\n",
       "      <th>ADV</th>\n",
       "      <td>0.013972</td>\n",
       "      <td>0.031603</td>\n",
       "      <td>0.137392</td>\n",
       "      <td>0.130406</td>\n",
       "      <td>0.014970</td>\n",
       "      <td>0.031603</td>\n",
       "      <td>0.118762</td>\n",
       "      <td>0.342315</td>\n",
       "      <td>0.023619</td>\n",
       "      <td>0.069528</td>\n",
       "      <td>0.078510</td>\n",
       "      <td>0.007319</td>\n",
       "    </tr>\n",
       "    <tr>\n",
       "      <th>CONJ</th>\n",
       "      <td>0.005114</td>\n",
       "      <td>0.041841</td>\n",
       "      <td>0.034403</td>\n",
       "      <td>0.119944</td>\n",
       "      <td>0.059972</td>\n",
       "      <td>0.350535</td>\n",
       "      <td>0.050674</td>\n",
       "      <td>0.156206</td>\n",
       "      <td>0.008368</td>\n",
       "      <td>0.117620</td>\n",
       "      <td>0.054858</td>\n",
       "      <td>0.000465</td>\n",
       "    </tr>\n",
       "  </tbody>\n",
       "</table>\n",
       "</div>"
      ],
      "text/plain": [
       "           PRT       NUM         .       ADJ      PRON      NOUN       ADP  \\\n",
       "PRT   0.001967  0.058689  0.041311  0.083934  0.018689  0.248197  0.020656   \n",
       "NUM   0.027737  0.185305  0.118619  0.033343  0.001475  0.352611  0.035114   \n",
       ".     0.002426  0.081409  0.091922  0.043760  0.065235  0.224099  0.091563   \n",
       "ADJ   0.011003  0.021022  0.065035  0.067663  0.000657  0.697980  0.077024   \n",
       "PRON  0.013082  0.006156  0.041554  0.073490  0.007695  0.210850  0.023086   \n",
       "NOUN  0.043371  0.009695  0.240287  0.012173  0.004629  0.264269  0.177127   \n",
       "ADP   0.001280  0.061980  0.039898  0.107531  0.068594  0.322594  0.017282   \n",
       "VERB  0.031656  0.023178  0.035000  0.064867  0.036012  0.111068  0.091312   \n",
       "X     0.184131  0.002703  0.162347  0.017332  0.055494  0.062331  0.144220   \n",
       "DET   0.000242  0.022422  0.018058  0.205430  0.003757  0.636165  0.009090   \n",
       "ADV   0.013972  0.031603  0.137392  0.130406  0.014970  0.031603  0.118762   \n",
       "CONJ  0.005114  0.041841  0.034403  0.119944  0.059972  0.350535  0.050674   \n",
       "\n",
       "          VERB         X       DET       ADV      CONJ  \n",
       "PRT   0.399672  0.013443  0.101967  0.009836  0.001639  \n",
       "NUM   0.017704  0.208616  0.002951  0.002951  0.013573  \n",
       ".     0.088957  0.027945  0.172343  0.052835  0.057418  \n",
       "ADJ   0.011989  0.020529  0.004763  0.004927  0.017408  \n",
       "PRON  0.481339  0.093882  0.009619  0.033859  0.005387  \n",
       "NOUN  0.146621  0.029011  0.013266  0.016911  0.042642  \n",
       "ADP   0.008214  0.034777  0.323128  0.013761  0.000960  \n",
       "VERB  0.168624  0.217936  0.133624  0.081201  0.005522  \n",
       "X     0.206233  0.074734  0.054063  0.026236  0.010176  \n",
       "DET   0.040480  0.045813  0.005454  0.012605  0.000485  \n",
       "ADV   0.342315  0.023619  0.069528  0.078510  0.007319  \n",
       "CONJ  0.156206  0.008368  0.117620  0.054858  0.000465  "
      ]
     },
     "execution_count": 24,
     "metadata": {},
     "output_type": "execute_result"
    }
   ],
   "source": [
    "# convert matrix into dataframe for better visuals\n",
    "tags_df = pd.DataFrame(tags_matrix, columns=list(T), index=list(T))\n",
    "tags_df"
   ]
  },
  {
   "cell_type": "code",
   "execution_count": 25,
   "metadata": {},
   "outputs": [
    {
     "data": {
      "image/png": "[encoded data removed]",
      "text/plain": [
       "<Figure size 1296x864 with 2 Axes>"
      ]
     },
     "metadata": {
      "needs_background": "light"
     },
     "output_type": "display_data"
    }
   ],
   "source": [
    "# heatmap of tags matrix\n",
    "# T(i, j) means P(tag j given tag i)\n",
    "plt.figure(figsize=(18, 12))\n",
    "sns.heatmap(tags_df)\n",
    "plt.show()"
   ]
  },
  {
   "cell_type": "markdown",
   "metadata": {},
   "source": [
    "Heat map shows high Transition probability of DET->NOUN and ADJ->NOUN which is expected as well"
   ]
  },
  {
   "cell_type": "markdown",
   "metadata": {},
   "source": [
    "### Build the vanilla Viterbi based POS tagger"
   ]
  },
  {
   "cell_type": "markdown",
   "metadata": {},
   "source": [
    "For each word w and compute P(tag/w)=P(w/tag).P(tag) for each tag in the tag set, and then assign the tag having the max P(tag/w)."
   ]
  },
  {
   "cell_type": "code",
   "execution_count": 26,
   "metadata": {},
   "outputs": [
    {
     "data": {
      "text/plain": [
       "95622"
      ]
     },
     "execution_count": 26,
     "metadata": {},
     "output_type": "execute_result"
    }
   ],
   "source": [
    "len(train_tagged_words)"
   ]
  },
  {
   "cell_type": "code",
   "execution_count": 27,
   "metadata": {},
   "outputs": [],
   "source": [
    "# viterbi heuristic\n",
    "def Viterbi(words, train_bag=train_tagged_words):\n",
    "    state=[]\n",
    "    T = list(set([pair[1] for pair in train_bag]))\n",
    "    \n",
    "    for key, word in enumerate(words):\n",
    "        # initialise Probability for the given word\n",
    "        p = []\n",
    "        for tag in T:\n",
    "            if key==0:\n",
    "                transition_p = tags_df.loc['.', tag]\n",
    "            else:\n",
    "                transition_p - tags_df.loc[state[-1], tag]\n",
    "            \n",
    "            #compute emission and state probabilities\n",
    "            emission_p = word_given_tag(words[key], tag)[0]/word_given_tag(words[key], tag)[1]\n",
    "            #if emission_p == 0:\n",
    "            #    emission_p = 0.000001\n",
    "                \n",
    "            state_prob = emission_p * transition_p\n",
    "            p.append(state_prob)\n",
    "            \n",
    "        p_max = max(p)\n",
    "        #state for which probability is maximum\n",
    "        state_max = T[p.index(p_max)]\n",
    "        state.append(state_max)\n",
    "    \n",
    "    return(list(zip(words, state)))"
   ]
  },
  {
   "cell_type": "markdown",
   "metadata": {
    "collapsed": true
   },
   "source": [
    "### Evaluating on Validation Set"
   ]
  },
  {
   "cell_type": "code",
   "execution_count": 28,
   "metadata": {},
   "outputs": [
    {
     "name": "stdout",
     "output_type": "stream",
     "text": [
      "Test tagged sequence: [('``', '.'), ('Nasty', 'PRT'), ('innuendoes', 'PRT'), (',', '.'), (\"''\", '.'), ('says', 'VERB'), ('*-2', 'X'), ('John', 'NOUN'), ('Siegal', 'PRT'), (',', '.'), ('Mr.', 'NOUN'), ('Dinkins', 'NOUN'), (\"'s\", 'PRT'), ('issues', 'NOUN'), ('director', 'NOUN'), (',', '.'), ('``', '.'), ('designed', 'VERB'), ('*', 'X'), ('*-1', 'X'), ('to', 'PRT'), ('prosecute', 'PRT'), ('a', 'DET'), ('case', 'NOUN'), ('of', 'ADP'), ('political', 'ADJ'), ('corruption', 'NOUN'), ('that', 'ADP'), ('*T*-74', 'X'), ('simply', 'ADV'), ('does', 'VERB'), (\"n't\", 'ADV'), ('exist', 'VERB'), ('.', '.'), (\"''\", '.'), ('Giant', 'NOUN'), ('Group', 'NOUN'), ('is', 'VERB'), ('led', 'VERB'), ('*-96', 'PRT'), ('by', 'ADP'), ('three', 'NUM'), ('Rally', 'NOUN'), (\"'s\", 'PRT'), ('directors', 'NOUN'), (',', '.'), ('Burt', 'NOUN'), ('Sugarman', 'NOUN'), (',', '.'), ('James', 'NOUN'), ('M.', 'NOUN'), ('Trotter', 'NOUN'), ('III', 'NOUN'), ('and', 'CONJ'), ('William', 'NOUN'), ('E.', 'NOUN'), ('Trotter', 'NOUN'), ('II', 'NOUN'), (',', '.'), ('who', 'PRON'), ('last', 'ADJ'), ('month', 'NOUN'), ('*T*-1', 'X'), ('indicated', 'VERB'), ('0', 'X'), ('they', 'PRON'), ('hold', 'VERB'), ('a', 'DET'), ('42.5', 'NUM'), ('%', 'NOUN'), ('stake', 'NOUN'), ('in', 'ADP'), ('Rally', 'NOUN'), (\"'s\", 'PRT'), ('and', 'CONJ'), ('plan', 'NOUN'), ('*-2', 'X'), ('to', 'PRT'), ('seek', 'VERB'), ('a', 'DET'), ('majority', 'NOUN'), ('of', 'ADP'), ('seats', 'NOUN'), ('on', 'ADP'), ('Rally', 'NOUN'), (\"'s\", 'PRT'), ('nine-member', 'ADJ'), ('board', 'NOUN'), ('.', '.'), ('Discos', 'PRT'), ('and', 'CONJ'), ('private', 'ADJ'), ('clubs', 'NOUN'), ('are', 'VERB'), ('exempt', 'PRT'), ('from', 'ADP'), ('the', 'DET'), ('ban', 'NOUN'), (',', '.'), ('and', 'CONJ'), ('smoking', 'NOUN'), ('will', 'VERB'), ('be', 'VERB'), ('permitted', 'VERB'), ('*-60', 'PRT'), ('in', 'ADP'), ('bars', 'PRT'), ('except', 'ADP'), ('during', 'ADP'), ('meal', 'NOUN'), ('hours', 'NOUN'), (',', '.'), ('an', 'DET'), ('official', 'NOUN'), ('said', 'VERB'), ('0', 'X'), ('*T*-1', 'X'), ('.', '.'), ('-LCB-', '.'), ('The', 'DET'), ('court', 'NOUN'), ('has', 'VERB'), ('indicated', 'VERB'), ('0', 'X'), ('it', 'PRON'), ('will', 'VERB'), ('rule', 'NOUN'), ('on', 'ADP'), ('the', 'DET'), ('case', 'NOUN'), ('by', 'ADP'), ('the', 'DET'), ('end', 'NOUN'), ('of', 'ADP'), ('the', 'DET'), ('month', 'NOUN'), ('.', '.'), ('-RCB-', '.'), ('The', 'DET'), ('offer', 'NOUN'), ('follows', 'VERB'), ('an', 'DET'), ('earlier', 'ADJ'), ('proposal', 'NOUN'), ('*ICH*-1', 'X'), ('by', 'ADP'), ('NL', 'NOUN'), ('and', 'CONJ'), ('Mr.', 'NOUN'), ('Simmons', 'NOUN'), ('*', 'X'), ('to', 'PRT'), ('help', 'VERB'), ('Georgia', 'NOUN'), ('Gulf', 'NOUN'), ('restructure', 'VERB'), ('or', 'CONJ'), ('go', 'VERB'), ('private', 'ADJ'), ('in', 'ADP'), ('a', 'DET'), ('transaction', 'NOUN'), ('that', 'ADP'), ('*T*-179', 'PRT'), ('would', 'VERB'), ('pay', 'VERB'), ('shareholders', 'NOUN'), ('$', '.'), ('55', 'NUM'), ('*U*', 'X'), ('a', 'DET'), ('share', 'NOUN'), ('.', '.'), ('But', 'CONJ'), ('with', 'ADP'), ('the', 'DET'), ('index', 'NOUN'), ('proving', 'VERB'), ('somewhat', 'ADV'), ('better', 'ADV'), ('than', 'ADP'), ('*', 'X'), ('expected', 'VERB'), ('and', 'CONJ'), ('the', 'DET'), ('widely', 'ADV'), ('anticipated', 'VERB'), ('report', 'NOUN'), ('on', 'ADP'), ('October', 'NOUN'), ('employment', 'NOUN'), ('scheduled', 'VERB'), ('*-1', 'X'), ('to', 'PRT'), ('arrive', 'PRT'), ('tomorrow', 'NOUN'), (',', '.'), ('stock', 'NOUN'), ('prices', 'NOUN'), ('firmed', 'PRT'), ('only', 'ADV'), ('modestly', 'ADV'), ('in', 'ADP'), ('response', 'NOUN'), ('to', 'PRT'), ('the', 'DET'), ('report', 'NOUN'), ('and', 'CONJ'), ('then', 'ADV'), ('faltered', 'PRT'), ('.', '.'), ('``', '.'), ('Professional', 'NOUN'), ('sugar', 'NOUN'), ('people', 'NOUN'), ('here', 'ADV'), ('who', 'PRON'), ('*T*-1', 'X'), ('have', 'VERB'), ('strong', 'ADJ'), ('contacts', 'NOUN'), ('with', 'ADP'), ('the', 'DET'), ('Brazilian', 'ADJ'), ('sugar', 'NOUN'), ('industry', 'NOUN'), ('have', 'VERB'), ('been', 'VERB'), ('unable', 'ADJ'), ('*-3', 'X'), ('to', 'PRT'), ('confirm', 'VERB'), ('the', 'DET'), ('reports', 'NOUN'), ('or', 'CONJ'), ('get', 'VERB'), ('enough', 'ADV'), ('information', 'NOUN'), ('0', 'X'), ('*', 'X'), ('to', 'PRT'), ('clarify', 'VERB'), ('the', 'DET'), ('situation', 'NOUN'), ('*T*-4', 'X'), (',', '.'), (\"''\", '.'), ('he', 'PRON'), ('said', 'VERB'), ('*T*-2', 'X'), ('.', '.'), ('``', '.'), ('Now', 'ADV'), (',', '.'), (\"''\", '.'), ('says', 'VERB'), ('*T*-1', 'X'), ('Joseph', 'NOUN'), ('Napolitan', 'PRT'), (',', '.'), ('a', 'DET'), ('pioneer', 'NOUN'), ('in', 'ADP'), ('political', 'ADJ'), ('television', 'NOUN'), (',', '.'), ('``', '.'), ('the', 'DET'), ('idea', 'NOUN'), ('is', 'VERB'), ('*', 'X'), ('to', 'PRT'), ('attack', 'NOUN'), ('first', 'ADJ'), (',', '.'), ('last', 'ADJ'), ('and', 'CONJ'), ('always', 'ADV'), ('.', '.'), (\"''\", '.'), ('Charities', 'NOUN'), ('test', 'NOUN'), ('the', 'DET'), ('waters', 'NOUN'), (',', '.'), ('but', 'CONJ'), ('they', 'PRON'), ('face', 'VERB'), ('legal', 'ADJ'), ('barriers', 'NOUN'), ('to', 'PRT'), ('electronic', 'ADJ'), ('fund', 'NOUN'), ('raising', 'VERB'), ('.', '.'), ('It', 'PRON'), ('uses', 'VERB'), ('a', 'DET'), ('base', 'NOUN'), ('of', 'ADP'), ('100', 'NUM'), ('in', 'ADP'), ('1985', 'NUM'), ('.', '.')]\n",
      "Time taken:  176.51380610466003\n"
     ]
    }
   ],
   "source": [
    "# tag the test sentences for validation using vanilla viterbi heuristic\n",
    "start = time.time()\n",
    "test_tagged_seq = Viterbi(test_tagged_words)\n",
    "end = time.time()\n",
    "diff = end - start\n",
    "print('Test tagged sequence:', test_tagged_seq)\n",
    "print('Time taken: ', diff)"
   ]
  },
  {
   "cell_type": "code",
   "execution_count": 29,
   "metadata": {},
   "outputs": [
    {
     "name": "stdout",
     "output_type": "stream",
     "text": [
      "Vanilla Viterbi Accuracy:  0.9111842105263158\n"
     ]
    }
   ],
   "source": [
    "# check accuracy on validation\n",
    "check = [i for i, j in zip(test_tagged_seq, test_run_base) if i == j] \n",
    "accuracy = len(check)/len(test_tagged_seq)\n",
    "print('Vanilla Viterbi Accuracy: ', accuracy)"
   ]
  },
  {
   "cell_type": "code",
   "execution_count": 30,
   "metadata": {
    "scrolled": true
   },
   "outputs": [
    {
     "name": "stdout",
     "output_type": "stream",
     "text": [
      "[[('``', '.'), (('Nasty', 'PRT'), ('Nasty', 'ADJ'))], [('Nasty', 'ADJ'), (('innuendoes', 'PRT'), ('innuendoes', 'NOUN'))], [('John', 'NOUN'), (('Siegal', 'PRT'), ('Siegal', 'NOUN'))], [('to', 'PRT'), (('prosecute', 'PRT'), ('prosecute', 'VERB'))], [('corruption', 'NOUN'), (('that', 'ADP'), ('that', 'DET'))], [('led', 'VERB'), (('*-96', 'PRT'), ('*-96', 'X'))], [('and', 'CONJ'), (('plan', 'NOUN'), ('plan', 'VERB'))], [('.', '.'), (('Discos', 'PRT'), ('Discos', 'NOUN'))], [('are', 'VERB'), (('exempt', 'PRT'), ('exempt', 'ADJ'))], [('permitted', 'VERB'), (('*-60', 'PRT'), ('*-60', 'X'))], [('in', 'ADP'), (('bars', 'PRT'), ('bars', 'NOUN'))], [('will', 'VERB'), (('rule', 'NOUN'), ('rule', 'VERB'))], [('Gulf', 'NOUN'), (('restructure', 'VERB'), ('restructure', 'NOUN'))], [('transaction', 'NOUN'), (('that', 'ADP'), ('that', 'DET'))], [('that', 'DET'), (('*T*-179', 'PRT'), ('*T*-179', 'X'))], [('somewhat', 'ADV'), (('better', 'ADV'), ('better', 'ADJ'))], [('to', 'PRT'), (('arrive', 'PRT'), ('arrive', 'VERB'))], [('prices', 'NOUN'), (('firmed', 'PRT'), ('firmed', 'VERB'))], [('then', 'ADV'), (('faltered', 'PRT'), ('faltered', 'VERB'))], [('``', '.'), (('Professional', 'NOUN'), ('Professional', 'ADJ'))], [('get', 'VERB'), (('enough', 'ADV'), ('enough', 'ADJ'))], [('Joseph', 'NOUN'), (('Napolitan', 'PRT'), ('Napolitan', 'NOUN'))], [('to', 'PRT'), (('attack', 'NOUN'), ('attack', 'VERB'))], [('attack', 'VERB'), (('first', 'ADJ'), ('first', 'ADV'))], [(',', '.'), (('last', 'ADJ'), ('last', 'ADV'))], [('Charities', 'NOUN'), (('test', 'NOUN'), ('test', 'VERB'))], [('fund', 'NOUN'), (('raising', 'VERB'), ('raising', 'NOUN'))]]\n",
      "No. of incorrect tags:  27\n"
     ]
    }
   ],
   "source": [
    "# incorrect tags\n",
    "#incorrect_tags = [[test_run_base[i-1],j] for i, j in enumerate(zip(test_tagged_seq, test_run_base)) if j[0]!=j[1]]\n",
    "incorrect_tags = [[test_run_base[i-1],j] for i, j in enumerate(zip(test_tagged_seq, test_run_base)) if j[0]!=j[1]]\n",
    "print(incorrect_tags)\n",
    "print('No. of incorrect tags: ', len(incorrect_tags))"
   ]
  },
  {
   "cell_type": "code",
   "execution_count": null,
   "metadata": {},
   "outputs": [],
   "source": []
  },
  {
   "cell_type": "markdown",
   "metadata": {},
   "source": [
    "### Solve the problem of unknown words"
   ]
  },
  {
   "cell_type": "markdown",
   "metadata": {},
   "source": [
    "#### Technique 1"
   ]
  },
  {
   "cell_type": "markdown",
   "metadata": {
    "collapsed": true
   },
   "source": [
    "##### Modified viterbi 1 : check if word is in corpus, if not assign only transition probability"
   ]
  },
  {
   "cell_type": "code",
   "execution_count": 31,
   "metadata": {},
   "outputs": [],
   "source": [
    "#Modifying the vannila viterbi\n",
    "def Viterbi_1(words, train_bag = train_tagged_words):\n",
    "    state = []\n",
    "    \n",
    "    #get the list of tags\n",
    "    T = list(set([pair[1] for pair in train_bag]))\n",
    "    \n",
    "    #get all tokens in corpus\n",
    "    V=[i[0] for i in train_bag]\n",
    "    \n",
    "    for key, word in enumerate(words):\n",
    "        #initialise list of probability column for a given observation\n",
    "     \n",
    "        p = [] \n",
    "        for tag in T:\n",
    "            if key == 0:\n",
    "                transition_p = tags_df.loc['.', tag]\n",
    "            else:\n",
    "                transition_p = tags_df.loc[state[-1], tag]\n",
    "                \n",
    "            # compute emission and state probabilities\n",
    "            emission_p = word_given_tag(words[key], tag)[0]/word_given_tag(words[key], tag)[1]\n",
    "            #if emission_p == 0:\n",
    "            #    emission_p = 0.000001\n",
    "            if words[key] in V:\n",
    "                state_probability = emission_p * transition_p\n",
    "            else:\n",
    "                state_probability = transition_p #Considering only the transition prob as emission will be zero        \n",
    "            p.append(state_probability)\n",
    "            \n",
    "        pmax = max(p)\n",
    "        # getting state for which probability is maximum\n",
    "        state_max = T[p.index(pmax)] \n",
    "        \n",
    "        state.append(state_max)      \n",
    "    return list(zip(words, state))"
   ]
  },
  {
   "cell_type": "code",
   "execution_count": 32,
   "metadata": {},
   "outputs": [
    {
     "name": "stdout",
     "output_type": "stream",
     "text": [
      "tagged_seq:  [('``', '.'), ('Nasty', 'NOUN'), ('innuendoes', 'NOUN'), (',', '.'), (\"''\", '.'), ('says', 'VERB'), ('*-2', 'X'), ('John', 'NOUN'), ('Siegal', 'NOUN'), (',', '.'), ('Mr.', 'NOUN'), ('Dinkins', 'NOUN'), (\"'s\", 'PRT'), ('issues', 'NOUN'), ('director', 'NOUN'), (',', '.'), ('``', '.'), ('designed', 'VERB'), ('*', 'X'), ('*-1', 'X'), ('to', 'PRT'), ('prosecute', 'VERB'), ('a', 'DET'), ('case', 'NOUN'), ('of', 'ADP'), ('political', 'ADJ'), ('corruption', 'NOUN'), ('that', 'ADP'), ('*T*-74', 'X'), ('simply', 'ADV'), ('does', 'VERB'), (\"n't\", 'ADV'), ('exist', 'VERB'), ('.', '.'), (\"''\", '.'), ('Giant', 'NOUN'), ('Group', 'NOUN'), ('is', 'VERB'), ('led', 'VERB'), ('*-96', 'X'), ('by', 'ADP'), ('three', 'NUM'), ('Rally', 'NOUN'), (\"'s\", 'PRT'), ('directors', 'NOUN'), (',', '.'), ('Burt', 'NOUN'), ('Sugarman', 'NOUN'), (',', '.'), ('James', 'NOUN'), ('M.', 'NOUN'), ('Trotter', 'NOUN'), ('III', 'NOUN'), ('and', 'CONJ'), ('William', 'NOUN'), ('E.', 'NOUN'), ('Trotter', 'NOUN'), ('II', 'NOUN'), (',', '.'), ('who', 'PRON'), ('last', 'ADJ'), ('month', 'NOUN'), ('*T*-1', 'X'), ('indicated', 'VERB'), ('0', 'X'), ('they', 'PRON'), ('hold', 'VERB'), ('a', 'DET'), ('42.5', 'NUM'), ('%', 'NOUN'), ('stake', 'NOUN'), ('in', 'ADP'), ('Rally', 'NOUN'), (\"'s\", 'PRT'), ('and', 'CONJ'), ('plan', 'NOUN'), ('*-2', 'X'), ('to', 'PRT'), ('seek', 'VERB'), ('a', 'DET'), ('majority', 'NOUN'), ('of', 'ADP'), ('seats', 'NOUN'), ('on', 'ADP'), ('Rally', 'NOUN'), (\"'s\", 'PRT'), ('nine-member', 'ADJ'), ('board', 'NOUN'), ('.', '.'), ('Discos', 'NOUN'), ('and', 'CONJ'), ('private', 'ADJ'), ('clubs', 'NOUN'), ('are', 'VERB'), ('exempt', 'X'), ('from', 'ADP'), ('the', 'DET'), ('ban', 'NOUN'), (',', '.'), ('and', 'CONJ'), ('smoking', 'NOUN'), ('will', 'VERB'), ('be', 'VERB'), ('permitted', 'VERB'), ('*-60', 'X'), ('in', 'ADP'), ('bars', 'DET'), ('except', 'ADP'), ('during', 'ADP'), ('meal', 'NOUN'), ('hours', 'NOUN'), (',', '.'), ('an', 'DET'), ('official', 'NOUN'), ('said', 'VERB'), ('0', 'X'), ('*T*-1', 'X'), ('.', '.'), ('-LCB-', '.'), ('The', 'DET'), ('court', 'NOUN'), ('has', 'VERB'), ('indicated', 'VERB'), ('0', 'X'), ('it', 'PRON'), ('will', 'VERB'), ('rule', 'NOUN'), ('on', 'ADP'), ('the', 'DET'), ('case', 'NOUN'), ('by', 'ADP'), ('the', 'DET'), ('end', 'NOUN'), ('of', 'ADP'), ('the', 'DET'), ('month', 'NOUN'), ('.', '.'), ('-RCB-', '.'), ('The', 'DET'), ('offer', 'NOUN'), ('follows', 'VERB'), ('an', 'DET'), ('earlier', 'ADJ'), ('proposal', 'NOUN'), ('*ICH*-1', 'X'), ('by', 'ADP'), ('NL', 'NOUN'), ('and', 'CONJ'), ('Mr.', 'NOUN'), ('Simmons', 'NOUN'), ('*', 'X'), ('to', 'PRT'), ('help', 'VERB'), ('Georgia', 'NOUN'), ('Gulf', 'NOUN'), ('restructure', 'VERB'), ('or', 'CONJ'), ('go', 'VERB'), ('private', 'ADJ'), ('in', 'ADP'), ('a', 'DET'), ('transaction', 'NOUN'), ('that', 'ADP'), ('*T*-179', 'DET'), ('would', 'VERB'), ('pay', 'VERB'), ('shareholders', 'NOUN'), ('$', '.'), ('55', 'NUM'), ('*U*', 'X'), ('a', 'DET'), ('share', 'NOUN'), ('.', '.'), ('But', 'CONJ'), ('with', 'ADP'), ('the', 'DET'), ('index', 'NOUN'), ('proving', 'VERB'), ('somewhat', 'ADV'), ('better', 'ADV'), ('than', 'ADP'), ('*', 'X'), ('expected', 'VERB'), ('and', 'CONJ'), ('the', 'DET'), ('widely', 'ADV'), ('anticipated', 'VERB'), ('report', 'NOUN'), ('on', 'ADP'), ('October', 'NOUN'), ('employment', 'NOUN'), ('scheduled', 'VERB'), ('*-1', 'X'), ('to', 'PRT'), ('arrive', 'VERB'), ('tomorrow', 'NOUN'), (',', '.'), ('stock', 'NOUN'), ('prices', 'NOUN'), ('firmed', 'NOUN'), ('only', 'ADV'), ('modestly', 'ADV'), ('in', 'ADP'), ('response', 'NOUN'), ('to', 'PRT'), ('the', 'DET'), ('report', 'NOUN'), ('and', 'CONJ'), ('then', 'ADV'), ('faltered', 'VERB'), ('.', '.'), ('``', '.'), ('Professional', 'NOUN'), ('sugar', 'NOUN'), ('people', 'NOUN'), ('here', 'ADV'), ('who', 'PRON'), ('*T*-1', 'X'), ('have', 'VERB'), ('strong', 'ADJ'), ('contacts', 'NOUN'), ('with', 'ADP'), ('the', 'DET'), ('Brazilian', 'ADJ'), ('sugar', 'NOUN'), ('industry', 'NOUN'), ('have', 'VERB'), ('been', 'VERB'), ('unable', 'ADJ'), ('*-3', 'X'), ('to', 'PRT'), ('confirm', 'VERB'), ('the', 'DET'), ('reports', 'NOUN'), ('or', 'CONJ'), ('get', 'VERB'), ('enough', 'ADV'), ('information', 'NOUN'), ('0', 'X'), ('*', 'X'), ('to', 'PRT'), ('clarify', 'VERB'), ('the', 'DET'), ('situation', 'NOUN'), ('*T*-4', 'X'), (',', '.'), (\"''\", '.'), ('he', 'PRON'), ('said', 'VERB'), ('*T*-2', 'X'), ('.', '.'), ('``', '.'), ('Now', 'ADV'), (',', '.'), (\"''\", '.'), ('says', 'VERB'), ('*T*-1', 'X'), ('Joseph', 'NOUN'), ('Napolitan', 'NOUN'), (',', '.'), ('a', 'DET'), ('pioneer', 'NOUN'), ('in', 'ADP'), ('political', 'ADJ'), ('television', 'NOUN'), (',', '.'), ('``', '.'), ('the', 'DET'), ('idea', 'NOUN'), ('is', 'VERB'), ('*', 'X'), ('to', 'PRT'), ('attack', 'NOUN'), ('first', 'ADJ'), (',', '.'), ('last', 'ADJ'), ('and', 'CONJ'), ('always', 'ADV'), ('.', '.'), (\"''\", '.'), ('Charities', 'NOUN'), ('test', 'NOUN'), ('the', 'DET'), ('waters', 'NOUN'), (',', '.'), ('but', 'CONJ'), ('they', 'PRON'), ('face', 'VERB'), ('legal', 'ADJ'), ('barriers', 'NOUN'), ('to', 'PRT'), ('electronic', 'ADJ'), ('fund', 'NOUN'), ('raising', 'VERB'), ('.', '.'), ('It', 'PRON'), ('uses', 'VERB'), ('a', 'DET'), ('base', 'NOUN'), ('of', 'ADP'), ('100', 'NUM'), ('in', 'ADP'), ('1985', 'NUM'), ('.', '.')]\n",
      "Time taken in seconds:  171.97346353530884\n"
     ]
    }
   ],
   "source": [
    "# tagging the test sentences\n",
    "start = time.time()\n",
    "tagged_seq_unk = Viterbi_1(test_tagged_words)\n",
    "end = time.time()\n",
    "difference = end-start\n",
    "print(\"tagged_seq: \", tagged_seq_unk )\n",
    "print(\"Time taken in seconds: \", difference)"
   ]
  },
  {
   "cell_type": "markdown",
   "metadata": {},
   "source": [
    "##### Evaluating accuracy for modified viterbi technique 1"
   ]
  },
  {
   "cell_type": "code",
   "execution_count": 33,
   "metadata": {},
   "outputs": [
    {
     "name": "stdout",
     "output_type": "stream",
     "text": [
      "Accuracy with modified Viterbi 1:  0.9407894736842105\n"
     ]
    }
   ],
   "source": [
    "# accuracy\n",
    "check_unk = [i for i, j in zip(tagged_seq_unk, test_run_base) if i == j]\n",
    "accuracy_unk = len(check_unk)/len(tagged_seq_unk)\n",
    "print('Accuracy with modified Viterbi 1: ', accuracy_unk)"
   ]
  },
  {
   "cell_type": "code",
   "execution_count": 34,
   "metadata": {},
   "outputs": [
    {
     "name": "stdout",
     "output_type": "stream",
     "text": [
      "[[('``', '.'), (('Nasty', 'NOUN'), ('Nasty', 'ADJ'))], [('corruption', 'NOUN'), (('that', 'ADP'), ('that', 'DET'))], [('and', 'CONJ'), (('plan', 'NOUN'), ('plan', 'VERB'))], [('are', 'VERB'), (('exempt', 'X'), ('exempt', 'ADJ'))], [('in', 'ADP'), (('bars', 'DET'), ('bars', 'NOUN'))], [('will', 'VERB'), (('rule', 'NOUN'), ('rule', 'VERB'))], [('Gulf', 'NOUN'), (('restructure', 'VERB'), ('restructure', 'NOUN'))], [('transaction', 'NOUN'), (('that', 'ADP'), ('that', 'DET'))], [('that', 'DET'), (('*T*-179', 'DET'), ('*T*-179', 'X'))], [('somewhat', 'ADV'), (('better', 'ADV'), ('better', 'ADJ'))], [('prices', 'NOUN'), (('firmed', 'NOUN'), ('firmed', 'VERB'))], [('``', '.'), (('Professional', 'NOUN'), ('Professional', 'ADJ'))], [('get', 'VERB'), (('enough', 'ADV'), ('enough', 'ADJ'))], [('to', 'PRT'), (('attack', 'NOUN'), ('attack', 'VERB'))], [('attack', 'VERB'), (('first', 'ADJ'), ('first', 'ADV'))], [(',', '.'), (('last', 'ADJ'), ('last', 'ADV'))], [('Charities', 'NOUN'), (('test', 'NOUN'), ('test', 'VERB'))], [('fund', 'NOUN'), (('raising', 'VERB'), ('raising', 'NOUN'))]]\n",
      "18\n"
     ]
    }
   ],
   "source": [
    "# incorrect tags\n",
    "incorrect_tagged_cases_unk = [[test_run_base[i-1],j] for i, j in enumerate(zip(tagged_seq_unk, test_run_base)) if j[0]!=j[1]]\n",
    "print(incorrect_tagged_cases_unk)\n",
    "print(len(incorrect_tagged_cases_unk))"
   ]
  },
  {
   "cell_type": "code",
   "execution_count": null,
   "metadata": {},
   "outputs": [],
   "source": []
  },
  {
   "cell_type": "markdown",
   "metadata": {},
   "source": [
    "#### Technique 2"
   ]
  },
  {
   "cell_type": "markdown",
   "metadata": {
    "collapsed": true
   },
   "source": [
    "##### Modified viterbi  2: rule based assignment using morphological features "
   ]
  },
  {
   "cell_type": "code",
   "execution_count": 35,
   "metadata": {},
   "outputs": [],
   "source": [
    "## Modifying using RegEx\n",
    "def Viterbi_2(incorrect_tagged_cases, tagged_seq_to_improve):\n",
    "    patterns = [\n",
    "    (r'.*es$', 'VERB'),\n",
    "    (r'.*ing$', 'VERB'),\n",
    "    (r'\\d?[a-z]?-[a-z]', 'ADP'),         \n",
    "    (r'.*ed$', 'VERB'),\n",
    "    (r'^an?$|the$', 'DET'),              \n",
    "    (r'.*ful$', 'ADJ'), \n",
    "    (r'.*ous$', 'ADJ'),\n",
    "    (r'.*ble$', 'ADJ'),\n",
    "    (r'^-?[0-9]+(.[0-9]+)?$', 'NUM'), \n",
    "    (r'.*', 'NOUN')\n",
    "    ]\n",
    "    # create a regex tagger \n",
    "    regexp_tagger = nltk.RegexpTagger(patterns)\n",
    " \n",
    "    #tag the incorrect words properly this time \n",
    "    incorrect_words=[i[1][0] for i in incorrect_tagged_cases]\n",
    "    regex_result=regexp_tagger.tag_sents(incorrect_words)\n",
    "    for i in incorrect_words[:]:\n",
    "        tagged_seq_to_improve.remove(i)\n",
    "    for i in regex_result:\n",
    "        tagged_seq_to_improve.append(i[0])\n",
    "    return tagged_seq_to_improve"
   ]
  },
  {
   "cell_type": "code",
   "execution_count": 36,
   "metadata": {},
   "outputs": [
    {
     "name": "stdout",
     "output_type": "stream",
     "text": [
      "Accuracy with modified Viterbi 2:  0.9506578947368421\n"
     ]
    }
   ],
   "source": [
    "#The accuracy for the modified viterbi 2 \n",
    "tagged_seq_validation_temp = tagged_seq_unk\n",
    "tagged_seq_validation_result = Viterbi_2(incorrect_tagged_cases_unk, tagged_seq_validation_temp)\n",
    "\n",
    "tagged_seq_validation_result.sort()\n",
    "test_run_base.sort()\n",
    "check_validation = [i for i, j in zip(tagged_seq_validation_result, test_run_base) if i == j] \n",
    "accuracy_validation = len(check_validation)/len(tagged_seq_validation_result)\n",
    "print('Accuracy with modified Viterbi 2: ', accuracy_validation)"
   ]
  },
  {
   "cell_type": "code",
   "execution_count": 37,
   "metadata": {},
   "outputs": [
    {
     "name": "stdout",
     "output_type": "stream",
     "text": [
      "[[('*T*-1', 'X'), (('*T*-179', 'NOUN'), ('*T*-179', 'X'))], [('Napolitan', 'NOUN'), (('Nasty', 'NOUN'), ('Nasty', 'ADJ'))], [('October', 'NOUN'), (('Professional', 'NOUN'), ('Professional', 'ADJ'))], [('arrive', 'VERB'), (('attack', 'NOUN'), ('attack', 'VERB'))], [('been', 'VERB'), (('better', 'NOUN'), ('better', 'ADJ'))], [('end', 'NOUN'), (('enough', 'NOUN'), ('enough', 'ADJ'))], [('except', 'ADP'), (('exempt', 'NOUN'), ('exempt', 'ADJ'))], [('firmed', 'VERB'), (('first', 'NOUN'), ('first', 'ADV'))], [('last', 'ADJ'), (('last', 'NOUN'), ('last', 'ADV'))], [('pioneer', 'NOUN'), (('plan', 'NOUN'), ('plan', 'VERB'))], [('proving', 'VERB'), (('raising', 'VERB'), ('raising', 'NOUN'))], [('restructure', 'NOUN'), (('rule', 'NOUN'), ('rule', 'VERB'))], [('television', 'NOUN'), (('test', 'NOUN'), ('test', 'VERB'))], [('than', 'ADP'), (('that', 'NOUN'), ('that', 'DET'))], [('that', 'DET'), (('that', 'NOUN'), ('that', 'DET'))]]\n",
      "15\n"
     ]
    }
   ],
   "source": [
    "# incorrect tags\n",
    "incorrect_tag_cases_modified_validation =[[test_run_base[i-1],j] for i, j in enumerate(zip(tagged_seq_validation_result, test_run_base)) if j[0]!=j[1]]\n",
    "print(incorrect_tag_cases_modified_validation)\n",
    "print(len(incorrect_tag_cases_modified_validation))"
   ]
  },
  {
   "cell_type": "markdown",
   "metadata": {},
   "source": [
    "#### Evaluating tagging accuracy"
   ]
  },
  {
   "cell_type": "markdown",
   "metadata": {},
   "source": [
    "##### Compare the tagging accuracies of the modifications with the vanilla Viterbi algorithm"
   ]
  },
  {
   "cell_type": "code",
   "execution_count": 38,
   "metadata": {},
   "outputs": [
    {
     "name": "stdout",
     "output_type": "stream",
     "text": [
      "Accuracy with Vanilla Viterbi:  0.9111842105263158\n",
      "Accuracy with modified Viterbi 1:  0.9407894736842105\n",
      "Accuracy with modified Viterbi 2:  0.9506578947368421\n"
     ]
    }
   ],
   "source": [
    "print('Accuracy with Vanilla Viterbi: ', accuracy)\n",
    "print('Accuracy with modified Viterbi 1: ', accuracy_unk)\n",
    "print('Accuracy with modified Viterbi 2: ', accuracy_validation)"
   ]
  },
  {
   "cell_type": "code",
   "execution_count": 39,
   "metadata": {},
   "outputs": [
    {
     "data": {
      "text/plain": [
       "[0.911, 0.941, 0.951]"
      ]
     },
     "execution_count": 39,
     "metadata": {},
     "output_type": "execute_result"
    }
   ],
   "source": [
    "accuracy_list = []\n",
    "accuracy_list.append(round(accuracy, 3))\n",
    "accuracy_list.append(round(accuracy_unk, 3))\n",
    "accuracy_list.append(round(accuracy_validation, 3))\n",
    "accuracy_list"
   ]
  },
  {
   "cell_type": "code",
   "execution_count": 40,
   "metadata": {},
   "outputs": [
    {
     "data": {
      "image/png": "[encoded data removed]",
      "text/plain": [
       "<Figure size 720x360 with 1 Axes>"
      ]
     },
     "metadata": {
      "needs_background": "light"
     },
     "output_type": "display_data"
    }
   ],
   "source": [
    "fig = plt.figure(figsize=(10,5))\n",
    "plt.bar(['Vanilla', 'Technique 1', 'Technique 2'], accuracy_list, width=0.5)\n",
    "plt.title('Accuracies of vanilla and modified Viterbi in Validation Data')\n",
    "plt.xlabel('Viterbi POS Taggers')\n",
    "plt.ylabel('Accuracy')\n",
    "plt.show()"
   ]
  },
  {
   "cell_type": "markdown",
   "metadata": {},
   "source": [
    "### List down cases which were incorrectly tagged by original POS tagger and got corrected by your modifications"
   ]
  },
  {
   "cell_type": "code",
   "execution_count": 41,
   "metadata": {},
   "outputs": [
    {
     "name": "stdout",
     "output_type": "stream",
     "text": [
      "[[('``', '.'), (('Nasty', 'PRT'), ('Nasty', 'ADJ'))], [('Nasty', 'ADJ'), (('innuendoes', 'PRT'), ('innuendoes', 'NOUN'))], [('John', 'NOUN'), (('Siegal', 'PRT'), ('Siegal', 'NOUN'))], [('to', 'PRT'), (('prosecute', 'PRT'), ('prosecute', 'VERB'))], [('corruption', 'NOUN'), (('that', 'ADP'), ('that', 'DET'))], [('led', 'VERB'), (('*-96', 'PRT'), ('*-96', 'X'))], [('and', 'CONJ'), (('plan', 'NOUN'), ('plan', 'VERB'))], [('.', '.'), (('Discos', 'PRT'), ('Discos', 'NOUN'))], [('are', 'VERB'), (('exempt', 'PRT'), ('exempt', 'ADJ'))], [('permitted', 'VERB'), (('*-60', 'PRT'), ('*-60', 'X'))], [('in', 'ADP'), (('bars', 'PRT'), ('bars', 'NOUN'))], [('will', 'VERB'), (('rule', 'NOUN'), ('rule', 'VERB'))], [('Gulf', 'NOUN'), (('restructure', 'VERB'), ('restructure', 'NOUN'))], [('transaction', 'NOUN'), (('that', 'ADP'), ('that', 'DET'))], [('that', 'DET'), (('*T*-179', 'PRT'), ('*T*-179', 'X'))], [('somewhat', 'ADV'), (('better', 'ADV'), ('better', 'ADJ'))], [('to', 'PRT'), (('arrive', 'PRT'), ('arrive', 'VERB'))], [('prices', 'NOUN'), (('firmed', 'PRT'), ('firmed', 'VERB'))], [('then', 'ADV'), (('faltered', 'PRT'), ('faltered', 'VERB'))], [('``', '.'), (('Professional', 'NOUN'), ('Professional', 'ADJ'))], [('get', 'VERB'), (('enough', 'ADV'), ('enough', 'ADJ'))], [('Joseph', 'NOUN'), (('Napolitan', 'PRT'), ('Napolitan', 'NOUN'))], [('to', 'PRT'), (('attack', 'NOUN'), ('attack', 'VERB'))], [('attack', 'VERB'), (('first', 'ADJ'), ('first', 'ADV'))], [(',', '.'), (('last', 'ADJ'), ('last', 'ADV'))], [('Charities', 'NOUN'), (('test', 'NOUN'), ('test', 'VERB'))], [('fund', 'NOUN'), (('raising', 'VERB'), ('raising', 'NOUN'))]] \n",
      "\n",
      "[[('``', '.'), (('Nasty', 'NOUN'), ('Nasty', 'ADJ'))], [('corruption', 'NOUN'), (('that', 'ADP'), ('that', 'DET'))], [('and', 'CONJ'), (('plan', 'NOUN'), ('plan', 'VERB'))], [('are', 'VERB'), (('exempt', 'X'), ('exempt', 'ADJ'))], [('in', 'ADP'), (('bars', 'DET'), ('bars', 'NOUN'))], [('will', 'VERB'), (('rule', 'NOUN'), ('rule', 'VERB'))], [('Gulf', 'NOUN'), (('restructure', 'VERB'), ('restructure', 'NOUN'))], [('transaction', 'NOUN'), (('that', 'ADP'), ('that', 'DET'))], [('that', 'DET'), (('*T*-179', 'DET'), ('*T*-179', 'X'))], [('somewhat', 'ADV'), (('better', 'ADV'), ('better', 'ADJ'))], [('prices', 'NOUN'), (('firmed', 'NOUN'), ('firmed', 'VERB'))], [('``', '.'), (('Professional', 'NOUN'), ('Professional', 'ADJ'))], [('get', 'VERB'), (('enough', 'ADV'), ('enough', 'ADJ'))], [('to', 'PRT'), (('attack', 'NOUN'), ('attack', 'VERB'))], [('attack', 'VERB'), (('first', 'ADJ'), ('first', 'ADV'))], [(',', '.'), (('last', 'ADJ'), ('last', 'ADV'))], [('Charities', 'NOUN'), (('test', 'NOUN'), ('test', 'VERB'))], [('fund', 'NOUN'), (('raising', 'VERB'), ('raising', 'NOUN'))]] \n",
      "\n",
      "[[('*T*-1', 'X'), (('*T*-179', 'NOUN'), ('*T*-179', 'X'))], [('Napolitan', 'NOUN'), (('Nasty', 'NOUN'), ('Nasty', 'ADJ'))], [('October', 'NOUN'), (('Professional', 'NOUN'), ('Professional', 'ADJ'))], [('arrive', 'VERB'), (('attack', 'NOUN'), ('attack', 'VERB'))], [('been', 'VERB'), (('better', 'NOUN'), ('better', 'ADJ'))], [('end', 'NOUN'), (('enough', 'NOUN'), ('enough', 'ADJ'))], [('except', 'ADP'), (('exempt', 'NOUN'), ('exempt', 'ADJ'))], [('firmed', 'VERB'), (('first', 'NOUN'), ('first', 'ADV'))], [('last', 'ADJ'), (('last', 'NOUN'), ('last', 'ADV'))], [('pioneer', 'NOUN'), (('plan', 'NOUN'), ('plan', 'VERB'))], [('proving', 'VERB'), (('raising', 'VERB'), ('raising', 'NOUN'))], [('restructure', 'NOUN'), (('rule', 'NOUN'), ('rule', 'VERB'))], [('television', 'NOUN'), (('test', 'NOUN'), ('test', 'VERB'))], [('than', 'ADP'), (('that', 'NOUN'), ('that', 'DET'))], [('that', 'DET'), (('that', 'NOUN'), ('that', 'DET'))]]\n"
     ]
    }
   ],
   "source": [
    "print(incorrect_tags,'\\n')\n",
    "print(incorrect_tagged_cases_unk,'\\n')\n",
    "print(incorrect_tag_cases_modified_validation)"
   ]
  },
  {
   "cell_type": "code",
   "execution_count": 60,
   "metadata": {},
   "outputs": [],
   "source": [
    "#get tags from incorrect tagged cases \n",
    "def get_taglist(tagged_cases):\n",
    "    tag_list = []\n",
    "    for item in tagged_cases:\n",
    "        #tag_list.append(item[0])\n",
    "        tag_list.append(item[1])\n",
    "        #tag_list.append(item[1][1])\n",
    "    return tag_list\n"
   ]
  },
  {
   "cell_type": "code",
   "execution_count": 61,
   "metadata": {},
   "outputs": [],
   "source": [
    "incorrect_tags_vanilla = get_taglist(incorrect_tags)\n",
    "incorrect_tags_1 = get_taglist(incorrect_tagged_cases_unk)\n",
    "incorrect_tags_2 = get_taglist(incorrect_tag_cases_modified_validation)"
   ]
  },
  {
   "cell_type": "code",
   "execution_count": 72,
   "metadata": {},
   "outputs": [
    {
     "name": "stdout",
     "output_type": "stream",
     "text": [
      "List of tags corrected in Validation Data by modified viterbi 1: \n",
      "\n",
      "(('Nasty', 'PRT'), ('Nasty', 'ADJ'))\n",
      "(('innuendoes', 'PRT'), ('innuendoes', 'NOUN'))\n",
      "(('Siegal', 'PRT'), ('Siegal', 'NOUN'))\n",
      "(('prosecute', 'PRT'), ('prosecute', 'VERB'))\n",
      "(('*-96', 'PRT'), ('*-96', 'X'))\n",
      "(('Discos', 'PRT'), ('Discos', 'NOUN'))\n",
      "(('exempt', 'PRT'), ('exempt', 'ADJ'))\n",
      "(('*-60', 'PRT'), ('*-60', 'X'))\n",
      "(('bars', 'PRT'), ('bars', 'NOUN'))\n",
      "(('*T*-179', 'PRT'), ('*T*-179', 'X'))\n",
      "(('arrive', 'PRT'), ('arrive', 'VERB'))\n",
      "(('firmed', 'PRT'), ('firmed', 'VERB'))\n",
      "(('faltered', 'PRT'), ('faltered', 'VERB'))\n",
      "(('Napolitan', 'PRT'), ('Napolitan', 'NOUN'))\n",
      "14\n"
     ]
    }
   ],
   "source": [
    "corrected_tags_1 = [x for x in incorrect_tags_vanilla if x not in incorrect_tags_1]\n",
    "print('List of tags corrected in Validation Data by modified viterbi 1: \\n')\n",
    "print(*corrected_tags_1, sep='\\n')\n",
    "print(len(corrected_tags_1))"
   ]
  },
  {
   "cell_type": "code",
   "execution_count": 73,
   "metadata": {},
   "outputs": [
    {
     "name": "stdout",
     "output_type": "stream",
     "text": [
      "List of tags corrected in Validation Data by modified viterbi 2: \n",
      "\n",
      "(('Nasty', 'PRT'), ('Nasty', 'ADJ'))\n",
      "(('innuendoes', 'PRT'), ('innuendoes', 'NOUN'))\n",
      "(('Siegal', 'PRT'), ('Siegal', 'NOUN'))\n",
      "(('prosecute', 'PRT'), ('prosecute', 'VERB'))\n",
      "(('that', 'ADP'), ('that', 'DET'))\n",
      "(('*-96', 'PRT'), ('*-96', 'X'))\n",
      "(('Discos', 'PRT'), ('Discos', 'NOUN'))\n",
      "(('exempt', 'PRT'), ('exempt', 'ADJ'))\n",
      "(('*-60', 'PRT'), ('*-60', 'X'))\n",
      "(('bars', 'PRT'), ('bars', 'NOUN'))\n",
      "(('restructure', 'VERB'), ('restructure', 'NOUN'))\n",
      "(('that', 'ADP'), ('that', 'DET'))\n",
      "(('*T*-179', 'PRT'), ('*T*-179', 'X'))\n",
      "(('better', 'ADV'), ('better', 'ADJ'))\n",
      "(('arrive', 'PRT'), ('arrive', 'VERB'))\n",
      "(('firmed', 'PRT'), ('firmed', 'VERB'))\n",
      "(('faltered', 'PRT'), ('faltered', 'VERB'))\n",
      "(('enough', 'ADV'), ('enough', 'ADJ'))\n",
      "(('Napolitan', 'PRT'), ('Napolitan', 'NOUN'))\n",
      "(('first', 'ADJ'), ('first', 'ADV'))\n",
      "(('last', 'ADJ'), ('last', 'ADV'))\n",
      "21\n"
     ]
    }
   ],
   "source": [
    "corrected_tags = [x for x in incorrect_tags_vanilla if x not in incorrect_tags_2]\n",
    "print('List of tags corrected in Validation Data by modified viterbi 2: \\n')\n",
    "print(*corrected_tags, sep='\\n')\n",
    "print(len(corrected_tags))"
   ]
  },
  {
   "cell_type": "code",
   "execution_count": null,
   "metadata": {},
   "outputs": [],
   "source": []
  },
  {
   "cell_type": "markdown",
   "metadata": {},
   "source": [
    "### Validation on test sentences"
   ]
  },
  {
   "cell_type": "code",
   "execution_count": 45,
   "metadata": {},
   "outputs": [
    {
     "name": "stdout",
     "output_type": "stream",
     "text": [
      "Android is a mobile operating system developed by Google.\n",
      "Android has been the best-selling OS worldwide on smartphones since 2011 and on tablets since 2013.\n",
      "Google and Twitter made a deal in 2015 that gave Google access to Twitter's firehose.\n",
      "Twitter is an online news and social networking service on which users post and interact with messages known as tweets.\n",
      "Before entering politics, Donald Trump was a domineering businessman and a television personality.\n",
      "The 2018 FIFA World Cup is the 21st FIFA World Cup, an international football tournament contested once every four years.\n",
      "This is the first World Cup to be held in Eastern Europe and the 11th time that it has been held in Europe.\n",
      "Show me the cheapest round trips from Dallas to Atlanta\n",
      "I would like to see flights from Denver to Philadelphia.\n",
      "Show me the price of the flights leaving Atlanta at about 3 in the afternoon and arriving in San Francisco.\n",
      "NASA invited social media users to experience the launch of ICESAT-2 Satellite.\n",
      "\n",
      "\n",
      "\n",
      "\n"
     ]
    }
   ],
   "source": [
    "# Read the test file\n",
    "test_sentence = open(\"Test_sentences.txt\", \"r\")\n",
    "test_text_sentence = test_sentence.read()\n",
    "test_sentence.close()\n",
    "print(test_text_sentence)"
   ]
  },
  {
   "cell_type": "code",
   "execution_count": 46,
   "metadata": {},
   "outputs": [
    {
     "name": "stdout",
     "output_type": "stream",
     "text": [
      "['Android', 'is', 'a', 'mobile', 'operating', 'system', 'developed', 'by', 'Google', '.', 'Android', 'has', 'been', 'the', 'best-selling', 'OS', 'worldwide', 'on', 'smartphones', 'since', '2011', 'and', 'on', 'tablets', 'since', '2013', '.', 'Google', 'and', 'Twitter', 'made', 'a', 'deal', 'in', '2015', 'that', 'gave', 'Google', 'access', 'to', 'Twitter', \"'s\", 'firehose', '.', 'Twitter', 'is', 'an', 'online', 'news', 'and', 'social', 'networking', 'service', 'on', 'which', 'users', 'post', 'and', 'interact', 'with', 'messages', 'known', 'as', 'tweets', '.', 'Before', 'entering', 'politics', ',', 'Donald', 'Trump', 'was', 'a', 'domineering', 'businessman', 'and', 'a', 'television', 'personality', '.', 'The', '2018', 'FIFA', 'World', 'Cup', 'is', 'the', '21st', 'FIFA', 'World', 'Cup', ',', 'an', 'international', 'football', 'tournament', 'contested', 'once', 'every', 'four', 'years', '.', 'This', 'is', 'the', 'first', 'World', 'Cup', 'to', 'be', 'held', 'in', 'Eastern', 'Europe', 'and', 'the', '11th', 'time', 'that', 'it', 'has', 'been', 'held', 'in', 'Europe', '.', 'Show', 'me', 'the', 'cheapest', 'round', 'trips', 'from', 'Dallas', 'to', 'Atlanta', 'I', 'would', 'like', 'to', 'see', 'flights', 'from', 'Denver', 'to', 'Philadelphia', '.', 'Show', 'me', 'the', 'price', 'of', 'the', 'flights', 'leaving', 'Atlanta', 'at', 'about', '3', 'in', 'the', 'afternoon', 'and', 'arriving', 'in', 'San', 'Francisco', '.', 'NASA', 'invited', 'social', 'media', 'users', 'to', 'experience', 'the', 'launch', 'of', 'ICESAT-2', 'Satellite', '.']\n"
     ]
    }
   ],
   "source": [
    "#Tokenize sentences to get the word\n",
    "words = word_tokenize(test_text_sentence)\n",
    "print(words)"
   ]
  },
  {
   "cell_type": "code",
   "execution_count": 47,
   "metadata": {},
   "outputs": [
    {
     "name": "stdout",
     "output_type": "stream",
     "text": [
      "pos_tagged_test_sentence [('Android', 'NOUN'), ('is', 'VERB'), ('a', 'DET'), ('mobile', 'ADJ'), ('operating', 'NOUN'), ('system', 'NOUN'), ('developed', 'VERB'), ('by', 'ADP'), ('Google', 'NOUN'), ('.', '.'), ('Android', 'NOUN'), ('has', 'VERB'), ('been', 'VERB'), ('the', 'DET'), ('best-selling', 'ADJ'), ('OS', 'NOUN'), ('worldwide', 'NOUN'), ('on', 'ADP'), ('smartphones', 'NOUN'), ('since', 'ADP'), ('2011', 'NUM'), ('and', 'CONJ'), ('on', 'ADP'), ('tablets', 'NOUN'), ('since', 'ADP'), ('2013', 'NUM'), ('.', '.'), ('Google', 'NOUN'), ('and', 'CONJ'), ('Twitter', 'NOUN'), ('made', 'VERB'), ('a', 'DET'), ('deal', 'NOUN'), ('in', 'ADP'), ('2015', 'NUM'), ('that', 'DET'), ('gave', 'VERB'), ('Google', 'NOUN'), ('access', 'NOUN'), ('to', 'PRT'), ('Twitter', 'NOUN'), (\"'s\", 'PRT'), ('firehose', 'NOUN'), ('.', '.'), ('Twitter', 'NOUN'), ('is', 'VERB'), ('an', 'DET'), ('online', 'ADJ'), ('news', 'NOUN'), ('and', 'CONJ'), ('social', 'ADJ'), ('networking', 'NOUN'), ('service', 'NOUN'), ('on', 'ADP'), ('which', 'DET'), ('users', 'NOUN'), ('post', 'NOUN'), ('and', 'CONJ'), ('interact', 'NOUN'), ('with', 'ADP'), ('messages', 'NOUN'), ('known', 'VERB'), ('as', 'ADP'), ('tweets', 'NOUN'), ('.', '.'), ('Before', 'ADP'), ('entering', 'VERB'), ('politics', 'NOUN'), (',', '.'), ('Donald', 'NOUN'), ('Trump', 'NOUN'), ('was', 'VERB'), ('a', 'DET'), ('domineering', 'ADJ'), ('businessman', 'NOUN'), ('and', 'CONJ'), ('a', 'DET'), ('television', 'NOUN'), ('personality', 'NOUN'), ('.', '.'), ('The', 'DET'), ('2018', 'NUM'), ('FIFA', 'NOUN'), ('World', 'NOUN'), ('Cup', 'NOUN'), ('is', 'VERB'), ('the', 'DET'), ('21st', 'NUM'), ('FIFA', 'NOUN'), ('World', 'NOUN'), ('Cup', 'NOUN'), (',', '.'), ('an', 'DET'), ('international', 'ADJ'), ('football', 'NOUN'), ('tournament', 'NOUN'), ('contested', 'VERB'), ('once', 'ADV'), ('every', 'DET'), ('four', 'NUM'), ('years', 'NOUN'), ('.', '.'), ('This', 'DET'), ('is', 'VERB'), ('the', 'DET'), ('first', 'ADJ'), ('World', 'NOUN'), ('Cup', 'NOUN'), ('to', 'PRT'), ('be', 'VERB'), ('held', 'VERB'), ('in', 'ADP'), ('Eastern', 'NOUN'), ('Europe', 'NOUN'), ('and', 'CONJ'), ('the', 'DET'), ('11th', 'NUM'), ('time', 'NOUN'), ('that', 'ADP'), ('it', 'PRON'), ('has', 'VERB'), ('been', 'VERB'), ('held', 'VERB'), ('in', 'ADP'), ('Europe', 'NOUN'), ('.', '.'), ('Show', 'VERB'), ('me', 'PRON'), ('the', 'DET'), ('cheapest', 'ADJ'), ('round', 'NOUN'), ('trips', 'NOUN'), ('from', 'ADP'), ('Dallas', 'NOUN'), ('to', 'PRT'), ('Atlanta', 'NOUN'), ('I', 'PRON'), ('would', 'VERB'), ('like', 'VERB'), ('to', 'PRT'), ('see', 'VERB'), ('flights', 'NOUN'), ('from', 'ADP'), ('Denver', 'NOUN'), ('to', 'PRT'), ('Philadelphia', 'NOUN'), ('.', '.'), ('Show', 'VERB'), ('me', 'PRON'), ('the', 'DET'), ('price', 'NOUN'), ('of', 'ADP'), ('the', 'DET'), ('flights', 'NOUN'), ('leaving', 'VERB'), ('Atlanta', 'NOUN'), ('at', 'ADP'), ('about', 'ADV'), ('3', 'NUM'), ('in', 'ADP'), ('the', 'DET'), ('afternoon', 'NOUN'), ('and', 'CONJ'), ('arriving', 'NOUN'), ('in', 'ADP'), ('San', 'NOUN'), ('Francisco', 'NOUN'), ('.', '.'), ('NASA', 'NOUN'), ('invited', 'VERB'), ('social', 'ADJ'), ('media', 'NOUN'), ('users', 'NOUN'), ('to', 'PRT'), ('experience', 'VERB'), ('the', 'DET'), ('launch', 'NOUN'), ('of', 'ADP'), ('ICESAT-2', 'NOUN'), ('Satellite', 'NOUN'), ('.', '.')]\n"
     ]
    }
   ],
   "source": [
    "# Tag words using POS\n",
    "pos_tagged_test_sentence = nltk.pos_tag(words, tagset='universal')\n",
    "print(\"pos_tagged_test_sentence\", pos_tagged_test_sentence)"
   ]
  },
  {
   "cell_type": "code",
   "execution_count": 48,
   "metadata": {},
   "outputs": [
    {
     "name": "stdout",
     "output_type": "stream",
     "text": [
      "[('Android', 'PRT'), ('is', 'VERB'), ('a', 'DET'), ('mobile', 'ADJ'), ('operating', 'VERB'), ('system', 'NOUN'), ('developed', 'VERB'), ('by', 'ADP'), ('Google', 'PRT'), ('.', '.'), ('Android', 'PRT'), ('has', 'VERB'), ('been', 'VERB'), ('the', 'DET'), ('best-selling', 'ADJ'), ('OS', 'PRT'), ('worldwide', 'PRT'), ('on', 'ADP'), ('smartphones', 'PRT'), ('since', 'ADP'), ('2011', 'PRT'), ('and', 'CONJ'), ('on', 'ADP'), ('tablets', 'NOUN'), ('since', 'ADP'), ('2013', 'PRT'), ('.', '.'), ('Google', 'PRT'), ('and', 'CONJ'), ('Twitter', 'PRT'), ('made', 'VERB'), ('a', 'DET'), ('deal', 'NOUN'), ('in', 'ADP'), ('2015', 'PRT'), ('that', 'ADP'), ('gave', 'VERB'), ('Google', 'PRT'), ('access', 'NOUN'), ('to', 'PRT'), ('Twitter', 'PRT'), (\"'s\", 'PRT'), ('firehose', 'PRT'), ('.', '.'), ('Twitter', 'PRT'), ('is', 'VERB'), ('an', 'DET'), ('online', 'PRT'), ('news', 'NOUN'), ('and', 'CONJ'), ('social', 'ADJ'), ('networking', 'NOUN'), ('service', 'NOUN'), ('on', 'ADP'), ('which', 'DET'), ('users', 'NOUN'), ('post', 'VERB'), ('and', 'CONJ'), ('interact', 'PRT'), ('with', 'ADP'), ('messages', 'PRT'), ('known', 'VERB'), ('as', 'ADP'), ('tweets', 'PRT'), ('.', '.'), ('Before', 'ADP'), ('entering', 'VERB'), ('politics', 'NOUN'), (',', '.'), ('Donald', 'NOUN'), ('Trump', 'NOUN'), ('was', 'VERB'), ('a', 'DET'), ('domineering', 'PRT'), ('businessman', 'NOUN'), ('and', 'CONJ'), ('a', 'DET'), ('television', 'NOUN'), ('personality', 'PRT'), ('.', '.'), ('The', 'DET'), ('2018', 'PRT'), ('FIFA', 'PRT'), ('World', 'NOUN'), ('Cup', 'PRT'), ('is', 'VERB'), ('the', 'DET'), ('21st', 'PRT'), ('FIFA', 'PRT'), ('World', 'NOUN'), ('Cup', 'PRT'), (',', '.'), ('an', 'DET'), ('international', 'ADJ'), ('football', 'NOUN'), ('tournament', 'PRT'), ('contested', 'PRT'), ('once', 'ADV'), ('every', 'DET'), ('four', 'NUM'), ('years', 'NOUN'), ('.', '.'), ('This', 'DET'), ('is', 'VERB'), ('the', 'DET'), ('first', 'ADJ'), ('World', 'NOUN'), ('Cup', 'PRT'), ('to', 'PRT'), ('be', 'VERB'), ('held', 'VERB'), ('in', 'ADP'), ('Eastern', 'NOUN'), ('Europe', 'NOUN'), ('and', 'CONJ'), ('the', 'DET'), ('11th', 'ADJ'), ('time', 'NOUN'), ('that', 'ADP'), ('it', 'PRON'), ('has', 'VERB'), ('been', 'VERB'), ('held', 'VERB'), ('in', 'ADP'), ('Europe', 'NOUN'), ('.', '.'), ('Show', 'NOUN'), ('me', 'PRON'), ('the', 'DET'), ('cheapest', 'ADJ'), ('round', 'NOUN'), ('trips', 'PRT'), ('from', 'ADP'), ('Dallas', 'NOUN'), ('to', 'PRT'), ('Atlanta', 'NOUN'), ('I', 'PRON'), ('would', 'VERB'), ('like', 'ADP'), ('to', 'PRT'), ('see', 'VERB'), ('flights', 'NOUN'), ('from', 'ADP'), ('Denver', 'NOUN'), ('to', 'PRT'), ('Philadelphia', 'NOUN'), ('.', '.'), ('Show', 'NOUN'), ('me', 'PRON'), ('the', 'DET'), ('price', 'NOUN'), ('of', 'ADP'), ('the', 'DET'), ('flights', 'NOUN'), ('leaving', 'VERB'), ('Atlanta', 'NOUN'), ('at', 'ADP'), ('about', 'ADP'), ('3', 'NUM'), ('in', 'ADP'), ('the', 'DET'), ('afternoon', 'NOUN'), ('and', 'CONJ'), ('arriving', 'PRT'), ('in', 'ADP'), ('San', 'NOUN'), ('Francisco', 'NOUN'), ('.', '.'), ('NASA', 'PRT'), ('invited', 'PRT'), ('social', 'ADJ'), ('media', 'NOUN'), ('users', 'NOUN'), ('to', 'PRT'), ('experience', 'NOUN'), ('the', 'DET'), ('launch', 'VERB'), ('of', 'ADP'), ('ICESAT-2', 'PRT'), ('Satellite', 'PRT'), ('.', '.')]\n",
      "100.05144453048706\n"
     ]
    }
   ],
   "source": [
    "# Validation using vanilla Viterbi\n",
    "start = time.time()\n",
    "word_tagged_seq = Viterbi(words)\n",
    "end = time.time()\n",
    "difference = end-start\n",
    "print(word_tagged_seq)\n",
    "print(difference)"
   ]
  },
  {
   "cell_type": "code",
   "execution_count": 49,
   "metadata": {},
   "outputs": [
    {
     "name": "stdout",
     "output_type": "stream",
     "text": [
      "Accuracy on test data with vanilla Viterbi:  0.7458563535911602\n"
     ]
    }
   ],
   "source": [
    "# accuracy with vanilla Viterbi\n",
    "word_check = [i for i, j in zip(word_tagged_seq, pos_tagged_test_sentence) if i == j] \n",
    "word_accuracy = len(word_check)/len(word_tagged_seq)\n",
    "print('Accuracy on test data with vanilla Viterbi: ', word_accuracy)"
   ]
  },
  {
   "cell_type": "code",
   "execution_count": 50,
   "metadata": {},
   "outputs": [
    {
     "name": "stdout",
     "output_type": "stream",
     "text": [
      "[[('.', '.'), (('Android', 'PRT'), ('Android', 'NOUN'))], [('mobile', 'ADJ'), (('operating', 'VERB'), ('operating', 'NOUN'))], [('by', 'ADP'), (('Google', 'PRT'), ('Google', 'NOUN'))], [('.', '.'), (('Android', 'PRT'), ('Android', 'NOUN'))], [('best-selling', 'ADJ'), (('OS', 'PRT'), ('OS', 'NOUN'))], [('OS', 'NOUN'), (('worldwide', 'PRT'), ('worldwide', 'NOUN'))], [('on', 'ADP'), (('smartphones', 'PRT'), ('smartphones', 'NOUN'))], [('since', 'ADP'), (('2011', 'PRT'), ('2011', 'NUM'))], [('since', 'ADP'), (('2013', 'PRT'), ('2013', 'NUM'))], [('.', '.'), (('Google', 'PRT'), ('Google', 'NOUN'))], [('and', 'CONJ'), (('Twitter', 'PRT'), ('Twitter', 'NOUN'))], [('in', 'ADP'), (('2015', 'PRT'), ('2015', 'NUM'))], [('2015', 'NUM'), (('that', 'ADP'), ('that', 'DET'))], [('gave', 'VERB'), (('Google', 'PRT'), ('Google', 'NOUN'))], [('to', 'PRT'), (('Twitter', 'PRT'), ('Twitter', 'NOUN'))], [(\"'s\", 'PRT'), (('firehose', 'PRT'), ('firehose', 'NOUN'))], [('.', '.'), (('Twitter', 'PRT'), ('Twitter', 'NOUN'))], [('an', 'DET'), (('online', 'PRT'), ('online', 'ADJ'))], [('users', 'NOUN'), (('post', 'VERB'), ('post', 'NOUN'))], [('and', 'CONJ'), (('interact', 'PRT'), ('interact', 'NOUN'))], [('with', 'ADP'), (('messages', 'PRT'), ('messages', 'NOUN'))], [('as', 'ADP'), (('tweets', 'PRT'), ('tweets', 'NOUN'))], [('a', 'DET'), (('domineering', 'PRT'), ('domineering', 'ADJ'))], [('television', 'NOUN'), (('personality', 'PRT'), ('personality', 'NOUN'))], [('The', 'DET'), (('2018', 'PRT'), ('2018', 'NUM'))], [('2018', 'NUM'), (('FIFA', 'PRT'), ('FIFA', 'NOUN'))], [('World', 'NOUN'), (('Cup', 'PRT'), ('Cup', 'NOUN'))], [('the', 'DET'), (('21st', 'PRT'), ('21st', 'NUM'))], [('21st', 'NUM'), (('FIFA', 'PRT'), ('FIFA', 'NOUN'))], [('World', 'NOUN'), (('Cup', 'PRT'), ('Cup', 'NOUN'))], [('football', 'NOUN'), (('tournament', 'PRT'), ('tournament', 'NOUN'))], [('tournament', 'NOUN'), (('contested', 'PRT'), ('contested', 'VERB'))], [('World', 'NOUN'), (('Cup', 'PRT'), ('Cup', 'NOUN'))], [('the', 'DET'), (('11th', 'ADJ'), ('11th', 'NUM'))], [('.', '.'), (('Show', 'NOUN'), ('Show', 'VERB'))], [('round', 'NOUN'), (('trips', 'PRT'), ('trips', 'NOUN'))], [('would', 'VERB'), (('like', 'ADP'), ('like', 'VERB'))], [('.', '.'), (('Show', 'NOUN'), ('Show', 'VERB'))], [('at', 'ADP'), (('about', 'ADP'), ('about', 'ADV'))], [('and', 'CONJ'), (('arriving', 'PRT'), ('arriving', 'NOUN'))], [('.', '.'), (('NASA', 'PRT'), ('NASA', 'NOUN'))], [('NASA', 'NOUN'), (('invited', 'PRT'), ('invited', 'VERB'))], [('to', 'PRT'), (('experience', 'NOUN'), ('experience', 'VERB'))], [('the', 'DET'), (('launch', 'VERB'), ('launch', 'NOUN'))], [('of', 'ADP'), (('ICESAT-2', 'PRT'), ('ICESAT-2', 'NOUN'))], [('ICESAT-2', 'NOUN'), (('Satellite', 'PRT'), ('Satellite', 'NOUN'))]]\n",
      "46\n"
     ]
    }
   ],
   "source": [
    "#Incorrect tags with vanilla Viturbi\n",
    "incorrect_tagged_cases_word = [[pos_tagged_test_sentence[i-1],j] for i, j in enumerate(zip(word_tagged_seq, pos_tagged_test_sentence)) if j[0]!=j[1]]\n",
    "print(incorrect_tagged_cases_word)\n",
    "print(len(incorrect_tagged_cases_word))"
   ]
  },
  {
   "cell_type": "code",
   "execution_count": 51,
   "metadata": {},
   "outputs": [
    {
     "name": "stdout",
     "output_type": "stream",
     "text": [
      "[('Android', 'NOUN'), ('is', 'VERB'), ('a', 'DET'), ('mobile', 'ADJ'), ('operating', 'NOUN'), ('system', 'NOUN'), ('developed', 'VERB'), ('by', 'ADP'), ('Google', 'DET'), ('.', '.'), ('Android', 'NOUN'), ('has', 'VERB'), ('been', 'VERB'), ('the', 'DET'), ('best-selling', 'ADJ'), ('OS', 'NOUN'), ('worldwide', 'NOUN'), ('on', 'ADP'), ('smartphones', 'DET'), ('since', 'ADP'), ('2011', 'DET'), ('and', 'CONJ'), ('on', 'ADP'), ('tablets', 'NOUN'), ('since', 'ADP'), ('2013', 'DET'), ('.', '.'), ('Google', 'NOUN'), ('and', 'CONJ'), ('Twitter', 'NOUN'), ('made', 'VERB'), ('a', 'DET'), ('deal', 'NOUN'), ('in', 'ADP'), ('2015', 'DET'), ('that', 'ADP'), ('gave', 'VERB'), ('Google', 'X'), ('access', 'NOUN'), ('to', 'PRT'), ('Twitter', 'VERB'), (\"'s\", 'PRT'), ('firehose', 'VERB'), ('.', '.'), ('Twitter', 'NOUN'), ('is', 'VERB'), ('an', 'DET'), ('online', 'NOUN'), ('news', 'NOUN'), ('and', 'CONJ'), ('social', 'ADJ'), ('networking', 'NOUN'), ('service', 'NOUN'), ('on', 'ADP'), ('which', 'DET'), ('users', 'NOUN'), ('post', 'NOUN'), ('and', 'CONJ'), ('interact', 'NOUN'), ('with', 'ADP'), ('messages', 'DET'), ('known', 'ADJ'), ('as', 'ADP'), ('tweets', 'DET'), ('.', '.'), ('Before', 'ADP'), ('entering', 'VERB'), ('politics', 'NOUN'), (',', '.'), ('Donald', 'NOUN'), ('Trump', 'NOUN'), ('was', 'VERB'), ('a', 'DET'), ('domineering', 'NOUN'), ('businessman', 'NOUN'), ('and', 'CONJ'), ('a', 'DET'), ('television', 'NOUN'), ('personality', 'NOUN'), ('.', '.'), ('The', 'DET'), ('2018', 'NOUN'), ('FIFA', 'NOUN'), ('World', 'NOUN'), ('Cup', 'NOUN'), ('is', 'VERB'), ('the', 'DET'), ('21st', 'NOUN'), ('FIFA', 'NOUN'), ('World', 'NOUN'), ('Cup', 'NOUN'), (',', '.'), ('an', 'DET'), ('international', 'ADJ'), ('football', 'NOUN'), ('tournament', 'NOUN'), ('contested', 'NOUN'), ('once', 'ADV'), ('every', 'DET'), ('four', 'NUM'), ('years', 'NOUN'), ('.', '.'), ('This', 'DET'), ('is', 'VERB'), ('the', 'DET'), ('first', 'ADJ'), ('World', 'NOUN'), ('Cup', 'NOUN'), ('to', 'PRT'), ('be', 'VERB'), ('held', 'VERB'), ('in', 'ADP'), ('Eastern', 'NOUN'), ('Europe', 'NOUN'), ('and', 'CONJ'), ('the', 'DET'), ('11th', 'ADJ'), ('time', 'NOUN'), ('that', 'ADP'), ('it', 'PRON'), ('has', 'VERB'), ('been', 'VERB'), ('held', 'VERB'), ('in', 'ADP'), ('Europe', 'NOUN'), ('.', '.'), ('Show', 'NOUN'), ('me', 'PRON'), ('the', 'DET'), ('cheapest', 'ADJ'), ('round', 'NOUN'), ('trips', 'NOUN'), ('from', 'ADP'), ('Dallas', 'NOUN'), ('to', 'PRT'), ('Atlanta', 'NOUN'), ('I', 'PRON'), ('would', 'VERB'), ('like', 'ADP'), ('to', 'PRT'), ('see', 'VERB'), ('flights', 'NOUN'), ('from', 'ADP'), ('Denver', 'NOUN'), ('to', 'PRT'), ('Philadelphia', 'NOUN'), ('.', '.'), ('Show', 'NOUN'), ('me', 'PRON'), ('the', 'DET'), ('price', 'NOUN'), ('of', 'ADP'), ('the', 'DET'), ('flights', 'NOUN'), ('leaving', 'VERB'), ('Atlanta', 'NOUN'), ('at', 'ADP'), ('about', 'ADP'), ('3', 'NUM'), ('in', 'ADP'), ('the', 'DET'), ('afternoon', 'NOUN'), ('and', 'CONJ'), ('arriving', 'NOUN'), ('in', 'ADP'), ('San', 'NOUN'), ('Francisco', 'NOUN'), ('.', '.'), ('NASA', 'NOUN'), ('invited', 'NOUN'), ('social', 'ADJ'), ('media', 'NOUN'), ('users', 'NOUN'), ('to', 'PRT'), ('experience', 'NOUN'), ('the', 'DET'), ('launch', 'NOUN'), ('of', 'ADP'), ('ICESAT-2', 'DET'), ('Satellite', 'NOUN'), ('.', '.')]\n",
      "106.04194641113281\n"
     ]
    }
   ],
   "source": [
    "# Validation to run on Viterbi for unknown words\n",
    "start = time.time()\n",
    "word_tagged_seq_unk = Viterbi_1(words)\n",
    "end = time.time()\n",
    "difference = end-start\n",
    "print(word_tagged_seq_unk)\n",
    "print(difference)"
   ]
  },
  {
   "cell_type": "code",
   "execution_count": 52,
   "metadata": {},
   "outputs": [
    {
     "name": "stdout",
     "output_type": "stream",
     "text": [
      "Accuracy with test data using Viterbi 1:  0.861878453038674\n"
     ]
    }
   ],
   "source": [
    "# accuracy\n",
    "word_check_unk = [i for i, j in zip(word_tagged_seq_unk, pos_tagged_test_sentence) if i == j] \n",
    "word_accuracy_unk = len(word_check_unk)/len(word_tagged_seq_unk)\n",
    "print('Accuracy with test data using Viterbi 1: ', word_accuracy_unk)"
   ]
  },
  {
   "cell_type": "code",
   "execution_count": 53,
   "metadata": {},
   "outputs": [
    {
     "name": "stdout",
     "output_type": "stream",
     "text": [
      "[[('by', 'ADP'), (('Google', 'DET'), ('Google', 'NOUN'))], [('on', 'ADP'), (('smartphones', 'DET'), ('smartphones', 'NOUN'))], [('since', 'ADP'), (('2011', 'DET'), ('2011', 'NUM'))], [('since', 'ADP'), (('2013', 'DET'), ('2013', 'NUM'))], [('in', 'ADP'), (('2015', 'DET'), ('2015', 'NUM'))], [('2015', 'NUM'), (('that', 'ADP'), ('that', 'DET'))], [('gave', 'VERB'), (('Google', 'X'), ('Google', 'NOUN'))], [('to', 'PRT'), (('Twitter', 'VERB'), ('Twitter', 'NOUN'))], [(\"'s\", 'PRT'), (('firehose', 'VERB'), ('firehose', 'NOUN'))], [('an', 'DET'), (('online', 'NOUN'), ('online', 'ADJ'))], [('with', 'ADP'), (('messages', 'DET'), ('messages', 'NOUN'))], [('messages', 'NOUN'), (('known', 'ADJ'), ('known', 'VERB'))], [('as', 'ADP'), (('tweets', 'DET'), ('tweets', 'NOUN'))], [('a', 'DET'), (('domineering', 'NOUN'), ('domineering', 'ADJ'))], [('The', 'DET'), (('2018', 'NOUN'), ('2018', 'NUM'))], [('the', 'DET'), (('21st', 'NOUN'), ('21st', 'NUM'))], [('tournament', 'NOUN'), (('contested', 'NOUN'), ('contested', 'VERB'))], [('the', 'DET'), (('11th', 'ADJ'), ('11th', 'NUM'))], [('.', '.'), (('Show', 'NOUN'), ('Show', 'VERB'))], [('would', 'VERB'), (('like', 'ADP'), ('like', 'VERB'))], [('.', '.'), (('Show', 'NOUN'), ('Show', 'VERB'))], [('at', 'ADP'), (('about', 'ADP'), ('about', 'ADV'))], [('NASA', 'NOUN'), (('invited', 'NOUN'), ('invited', 'VERB'))], [('to', 'PRT'), (('experience', 'NOUN'), ('experience', 'VERB'))], [('of', 'ADP'), (('ICESAT-2', 'DET'), ('ICESAT-2', 'NOUN'))]]\n",
      "25\n"
     ]
    }
   ],
   "source": [
    "# Incorrect Tags with Viterbi 1\n",
    "incorrect_tagged_cases_word_unk = [[pos_tagged_test_sentence[i-1],j] for i, j in enumerate(zip(word_tagged_seq_unk, pos_tagged_test_sentence)) if j[0]!=j[1]]\n",
    "print(incorrect_tagged_cases_word_unk)\n",
    "print(len(incorrect_tagged_cases_word_unk))"
   ]
  },
  {
   "cell_type": "code",
   "execution_count": 54,
   "metadata": {},
   "outputs": [
    {
     "name": "stdout",
     "output_type": "stream",
     "text": [
      "0.9281767955801105\n",
      "Accuracy with test data using Viterbi 2:  0.9281767955801105\n"
     ]
    }
   ],
   "source": [
    "\n",
    "#The validation accuracy for the modified code using regex\n",
    "tagged_seq_validation_regex = word_tagged_seq_unk\n",
    "tagged_seq_validation_result_regex = Viterbi_2(incorrect_tagged_cases_word_unk, tagged_seq_validation_regex)\n",
    "\n",
    "tagged_seq_validation_result_regex.sort()\n",
    "pos_tagged_test_sentence.sort()\n",
    "check_validation_regex = [i for i, j in zip(tagged_seq_validation_result_regex, pos_tagged_test_sentence) if i == j] \n",
    "accuracy_validation_regex = len(check_validation_regex)/len(tagged_seq_validation_result_regex)\n",
    "print(accuracy_validation_regex)\n",
    "print('Accuracy with test data using Viterbi 2: ', accuracy_validation_regex)"
   ]
  },
  {
   "cell_type": "code",
   "execution_count": 55,
   "metadata": {
    "scrolled": true
   },
   "outputs": [
    {
     "name": "stdout",
     "output_type": "stream",
     "text": [
      "[[('.', '.'), (('11th', 'NOUN'), ('11th', 'NUM'))], [('2018', 'NUM'), (('21st', 'NOUN'), ('21st', 'NUM'))], [('Satellite', 'NOUN'), (('Show', 'NOUN'), ('Show', 'VERB'))], [('Show', 'VERB'), (('Show', 'NOUN'), ('Show', 'VERB'))], [('a', 'DET'), (('about', 'NOUN'), ('about', 'ADV'))], [('developed', 'VERB'), (('domineering', 'VERB'), ('domineering', 'ADJ'))], [('every', 'DET'), (('experience', 'NOUN'), ('experience', 'VERB'))], [('it', 'PRON'), (('known', 'NOUN'), ('known', 'VERB'))], [('leaving', 'VERB'), (('like', 'NOUN'), ('like', 'VERB'))], [('media', 'NOUN'), (('messages', 'VERB'), ('messages', 'NOUN'))], [('once', 'ADV'), (('online', 'NOUN'), ('online', 'ADJ'))], [('since', 'ADP'), (('smartphones', 'VERB'), ('smartphones', 'NOUN'))], [('that', 'ADP'), (('that', 'NOUN'), ('that', 'DET'))]]\n",
      "13\n"
     ]
    }
   ],
   "source": [
    "# Incorrect tags with Viterbi 2\n",
    "incorrect_tagged_cases_word_regex = [[pos_tagged_test_sentence[i-1],j] for i, j in enumerate(zip(tagged_seq_validation_result_regex, pos_tagged_test_sentence)) if j[0]!=j[1]]\n",
    "print(incorrect_tagged_cases_word_regex)\n",
    "print(len(incorrect_tagged_cases_word_regex))"
   ]
  },
  {
   "cell_type": "markdown",
   "metadata": {},
   "source": [
    "##### Comparing accuracies of vanilla and modified viterbi on test sentences"
   ]
  },
  {
   "cell_type": "code",
   "execution_count": 59,
   "metadata": {},
   "outputs": [
    {
     "name": "stdout",
     "output_type": "stream",
     "text": [
      "Accuracy on test data with vanilla Viterbi:  0.7458563535911602\n",
      "Accuracy with test data using Viterbi 1:  0.861878453038674\n",
      "Accuracy with test data using Viterbi 2:  0.9281767955801105\n"
     ]
    }
   ],
   "source": [
    "print('Accuracy on test data with vanilla Viterbi: ', word_accuracy)\n",
    "print('Accuracy with test data using Viterbi 1: ', word_accuracy_unk)\n",
    "print('Accuracy with test data using Viterbi 2: ', accuracy_validation_regex)"
   ]
  },
  {
   "cell_type": "code",
   "execution_count": 56,
   "metadata": {},
   "outputs": [
    {
     "data": {
      "image/png": "[encoded data removed]",
      "text/plain": [
       "<Figure size 720x360 with 1 Axes>"
      ]
     },
     "metadata": {
      "needs_background": "light"
     },
     "output_type": "display_data"
    }
   ],
   "source": [
    "fig = plt.figure(figsize=(10,5))\n",
    "plt.bar(['Vanilla', 'Technique 1', 'Technique 2'], [word_accuracy, word_accuracy_unk, accuracy_validation_regex], width=0.5)\n",
    "\n",
    "plt.title(\"Accuracies of vanilla and modified Viterbi in Test Sentences\")\n",
    "plt.xlabel('Viterbi POS Taggers')\n",
    "plt.ylabel('Accuracy in Test Data')\n",
    "plt.show()"
   ]
  },
  {
   "cell_type": "code",
   "execution_count": null,
   "metadata": {},
   "outputs": [],
   "source": []
  },
  {
   "cell_type": "markdown",
   "metadata": {},
   "source": [
    "#### Cases in test sentences which were incorrectly tagged by original POS tagger and got corrected by modifications"
   ]
  },
  {
   "cell_type": "code",
   "execution_count": 63,
   "metadata": {},
   "outputs": [],
   "source": [
    "test_incorrect_tags_vanilla = get_taglist(incorrect_tagged_cases_word)\n",
    "test_incorrect_tags_1 = get_taglist(incorrect_tagged_cases_word_unk)\n",
    "test_incorrect_tags_2 = get_taglist(incorrect_tagged_cases_word_regex)"
   ]
  },
  {
   "cell_type": "code",
   "execution_count": 70,
   "metadata": {},
   "outputs": [
    {
     "name": "stdout",
     "output_type": "stream",
     "text": [
      "List of tags corrected in Test Data by modified viterbi 1: \n",
      "\n",
      "(('Android', 'PRT'), ('Android', 'NOUN'))\n",
      "(('operating', 'VERB'), ('operating', 'NOUN'))\n",
      "(('Google', 'PRT'), ('Google', 'NOUN'))\n",
      "(('Android', 'PRT'), ('Android', 'NOUN'))\n",
      "(('OS', 'PRT'), ('OS', 'NOUN'))\n",
      "(('worldwide', 'PRT'), ('worldwide', 'NOUN'))\n",
      "(('smartphones', 'PRT'), ('smartphones', 'NOUN'))\n",
      "(('2011', 'PRT'), ('2011', 'NUM'))\n",
      "(('2013', 'PRT'), ('2013', 'NUM'))\n",
      "(('Google', 'PRT'), ('Google', 'NOUN'))\n",
      "(('Twitter', 'PRT'), ('Twitter', 'NOUN'))\n",
      "(('2015', 'PRT'), ('2015', 'NUM'))\n",
      "(('Google', 'PRT'), ('Google', 'NOUN'))\n",
      "(('Twitter', 'PRT'), ('Twitter', 'NOUN'))\n",
      "(('firehose', 'PRT'), ('firehose', 'NOUN'))\n",
      "(('Twitter', 'PRT'), ('Twitter', 'NOUN'))\n",
      "(('online', 'PRT'), ('online', 'ADJ'))\n",
      "(('post', 'VERB'), ('post', 'NOUN'))\n",
      "(('interact', 'PRT'), ('interact', 'NOUN'))\n",
      "(('messages', 'PRT'), ('messages', 'NOUN'))\n",
      "(('tweets', 'PRT'), ('tweets', 'NOUN'))\n",
      "(('domineering', 'PRT'), ('domineering', 'ADJ'))\n",
      "(('personality', 'PRT'), ('personality', 'NOUN'))\n",
      "(('2018', 'PRT'), ('2018', 'NUM'))\n",
      "(('FIFA', 'PRT'), ('FIFA', 'NOUN'))\n",
      "(('Cup', 'PRT'), ('Cup', 'NOUN'))\n",
      "(('21st', 'PRT'), ('21st', 'NUM'))\n",
      "(('FIFA', 'PRT'), ('FIFA', 'NOUN'))\n",
      "(('Cup', 'PRT'), ('Cup', 'NOUN'))\n",
      "(('tournament', 'PRT'), ('tournament', 'NOUN'))\n",
      "(('contested', 'PRT'), ('contested', 'VERB'))\n",
      "(('Cup', 'PRT'), ('Cup', 'NOUN'))\n",
      "(('trips', 'PRT'), ('trips', 'NOUN'))\n",
      "(('arriving', 'PRT'), ('arriving', 'NOUN'))\n",
      "(('NASA', 'PRT'), ('NASA', 'NOUN'))\n",
      "(('invited', 'PRT'), ('invited', 'VERB'))\n",
      "(('launch', 'VERB'), ('launch', 'NOUN'))\n",
      "(('ICESAT-2', 'PRT'), ('ICESAT-2', 'NOUN'))\n",
      "(('Satellite', 'PRT'), ('Satellite', 'NOUN'))\n",
      "39\n"
     ]
    }
   ],
   "source": [
    "test_corrected_tags_1 = [x for x in test_incorrect_tags_vanilla if x not in test_incorrect_tags_1]\n",
    "print('List of tags corrected in Test Data by modified viterbi 1: \\n')\n",
    "print(*test_corrected_tags_1, sep='\\n')\n",
    "print(len(test_corrected_tags_1))"
   ]
  },
  {
   "cell_type": "code",
   "execution_count": 71,
   "metadata": {
    "scrolled": false
   },
   "outputs": [
    {
     "name": "stdout",
     "output_type": "stream",
     "text": [
      "List of tags corrected in Test Data by modified viterbi 2: \n",
      "\n",
      "(('Android', 'PRT'), ('Android', 'NOUN'))\n",
      "(('operating', 'VERB'), ('operating', 'NOUN'))\n",
      "(('Google', 'PRT'), ('Google', 'NOUN'))\n",
      "(('Android', 'PRT'), ('Android', 'NOUN'))\n",
      "(('OS', 'PRT'), ('OS', 'NOUN'))\n",
      "(('worldwide', 'PRT'), ('worldwide', 'NOUN'))\n",
      "(('smartphones', 'PRT'), ('smartphones', 'NOUN'))\n",
      "(('2011', 'PRT'), ('2011', 'NUM'))\n",
      "(('2013', 'PRT'), ('2013', 'NUM'))\n",
      "(('Google', 'PRT'), ('Google', 'NOUN'))\n",
      "(('Twitter', 'PRT'), ('Twitter', 'NOUN'))\n",
      "(('2015', 'PRT'), ('2015', 'NUM'))\n",
      "(('that', 'ADP'), ('that', 'DET'))\n",
      "(('Google', 'PRT'), ('Google', 'NOUN'))\n",
      "(('Twitter', 'PRT'), ('Twitter', 'NOUN'))\n",
      "(('firehose', 'PRT'), ('firehose', 'NOUN'))\n",
      "(('Twitter', 'PRT'), ('Twitter', 'NOUN'))\n",
      "(('online', 'PRT'), ('online', 'ADJ'))\n",
      "(('post', 'VERB'), ('post', 'NOUN'))\n",
      "(('interact', 'PRT'), ('interact', 'NOUN'))\n",
      "(('messages', 'PRT'), ('messages', 'NOUN'))\n",
      "(('tweets', 'PRT'), ('tweets', 'NOUN'))\n",
      "(('domineering', 'PRT'), ('domineering', 'ADJ'))\n",
      "(('personality', 'PRT'), ('personality', 'NOUN'))\n",
      "(('2018', 'PRT'), ('2018', 'NUM'))\n",
      "(('FIFA', 'PRT'), ('FIFA', 'NOUN'))\n",
      "(('Cup', 'PRT'), ('Cup', 'NOUN'))\n",
      "(('21st', 'PRT'), ('21st', 'NUM'))\n",
      "(('FIFA', 'PRT'), ('FIFA', 'NOUN'))\n",
      "(('Cup', 'PRT'), ('Cup', 'NOUN'))\n",
      "(('tournament', 'PRT'), ('tournament', 'NOUN'))\n",
      "(('contested', 'PRT'), ('contested', 'VERB'))\n",
      "(('Cup', 'PRT'), ('Cup', 'NOUN'))\n",
      "(('11th', 'ADJ'), ('11th', 'NUM'))\n",
      "(('trips', 'PRT'), ('trips', 'NOUN'))\n",
      "(('like', 'ADP'), ('like', 'VERB'))\n",
      "(('about', 'ADP'), ('about', 'ADV'))\n",
      "(('arriving', 'PRT'), ('arriving', 'NOUN'))\n",
      "(('NASA', 'PRT'), ('NASA', 'NOUN'))\n",
      "(('invited', 'PRT'), ('invited', 'VERB'))\n",
      "(('launch', 'VERB'), ('launch', 'NOUN'))\n",
      "(('ICESAT-2', 'PRT'), ('ICESAT-2', 'NOUN'))\n",
      "(('Satellite', 'PRT'), ('Satellite', 'NOUN'))\n",
      "43\n"
     ]
    }
   ],
   "source": [
    "test_corrected_tags_2 = [x for x in test_incorrect_tags_vanilla if x not in test_incorrect_tags_2]\n",
    "print('List of tags corrected in Test Data by modified viterbi 2: \\n')\n",
    "print(*test_corrected_tags_2, sep='\\n')\n",
    "print(len(test_corrected_tags_2))"
   ]
  }
 ],
 "metadata": {
  "kernelspec": {
   "display_name": "Python 3",
   "language": "python",
   "name": "python3"
  },
  "language_info": {
   "codemirror_mode": {
    "name": "ipython",
    "version": 3
   },
   "file_extension": ".py",
   "mimetype": "text/x-python",
   "name": "python",
   "nbconvert_exporter": "python",
   "pygments_lexer": "ipython3",
   "version": "3.8.5"
  }
 },
 "nbformat": 4,
 "nbformat_minor": 2
}
